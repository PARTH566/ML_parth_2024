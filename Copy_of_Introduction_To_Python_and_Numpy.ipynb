{
  "nbformat": 4,
  "nbformat_minor": 0,
  "metadata": {
    "colab": {
      "provenance": [],
      "include_colab_link": true
    },
    "kernelspec": {
      "name": "python3",
      "display_name": "Python 3"
    },
    "language_info": {
      "name": "python"
    }
  },
  "cells": [
    {
      "cell_type": "markdown",
      "metadata": {
        "id": "view-in-github",
        "colab_type": "text"
      },
      "source": [
        "<a href=\"https://colab.research.google.com/github/PARTH566/ML_parth_2024/blob/main/Copy_of_Introduction_To_Python_and_Numpy.ipynb\" target=\"_parent\"><img src=\"https://colab.research.google.com/assets/colab-badge.svg\" alt=\"Open In Colab\"/></a>"
      ]
    },
    {
      "cell_type": "markdown",
      "source": [
        "## **What is Python ?**\n",
        "> Python is a popular, open source high-level programming language released in 1991. It is a platform independent ***interpreted*** language.\n",
        "\n",
        "## **What can it be used for ?**\n",
        "*   Data Science\n",
        "*   Machine Learning & AI\n",
        "*   Web Development (Server Side)\n",
        "*   GUI Development\n",
        "*   Scientific & Numeric Programming\n",
        "\n",
        "## **Why Python ?**\n",
        "1.   Simple, easy-to-learn syntax\n",
        "2.  There exists inbuilt functions for almost all of the frequently used concepts.\n",
        "3.   Supports a wide array of third-party modules and libraries\n"
      ],
      "metadata": {
        "id": "PLVDNGmSISCr"
      }
    },
    {
      "cell_type": "markdown",
      "source": [
        "# **Hello World! in C++**\n",
        "```\n",
        "#include <stdio.h>\n",
        "\n",
        "int main(){\n",
        "    cout<<\"Hello World!\"<<endl;\n",
        "    return 0;\n",
        "}\n",
        "```"
      ],
      "metadata": {
        "id": "N6-hq_DQI4Vt"
      }
    },
    {
      "cell_type": "markdown",
      "source": [
        "# **Python vs. C/C++**\n",
        "\n",
        "1. No  `;` in Python!\n",
        "\n",
        "Unlike C/C++ a python statement does not require a `;` to terminate. But, every python statement must be placed in a new line.\n",
        "\n",
        "2. No `{ }` in Python!\n",
        "\n",
        "Python does not use `{ }` to define blocks in code like in C/C++. Instead, python brings a new headache of ***Indentation***."
      ],
      "metadata": {
        "id": "BadRa-FIJcSq"
      }
    },
    {
      "cell_type": "markdown",
      "source": [
        "## Writing our first program\n",
        "\n"
      ],
      "metadata": {
        "id": "YEHT8AcKE0Bk"
      }
    },
    {
      "cell_type": "code",
      "source": [
        "#Script begins from here\n",
        "print('Hello, World')\n",
        "# Thats all, no imports required"
      ],
      "metadata": {
        "colab": {
          "base_uri": "https://localhost:8080/"
        },
        "id": "7yD3wOd_E3GW",
        "outputId": "5fdb6ecd-8bc0-4e1a-9904-aaf05ac7dc6e"
      },
      "execution_count": null,
      "outputs": [
        {
          "output_type": "stream",
          "name": "stdout",
          "text": [
            "Hello, World\n"
          ]
        }
      ]
    },
    {
      "cell_type": "markdown",
      "source": [
        "* The `print()` function also takes two other optional arguements:\n",
        "1. **sep** = *'separator'* : Specify how to separate two objects. Set to ' ' by default.\n",
        "2. **end** = *'end'* : Specify what to print at the end of line. Set to '\\n' by default."
      ],
      "metadata": {
        "id": "3kx340CkqMHc"
      }
    },
    {
      "cell_type": "code",
      "source": [
        "print('Hello', 'World', sep=\"\")\n",
        "print('Hello', 'World')"
      ],
      "metadata": {
        "id": "HZJC4BeRCTwx",
        "colab": {
          "base_uri": "https://localhost:8080/"
        },
        "outputId": "66f6b16f-345f-4794-b018-72d162e1e46f"
      },
      "execution_count": null,
      "outputs": [
        {
          "output_type": "stream",
          "name": "stdout",
          "text": [
            "HelloWorld\n"
          ]
        }
      ]
    },
    {
      "cell_type": "code",
      "source": [
        "print(\"Hello\", end=\"\")\n",
        "print(\"World!\")"
      ],
      "metadata": {
        "id": "tqIPrJBUJ9rU"
      },
      "execution_count": null,
      "outputs": []
    },
    {
      "cell_type": "code",
      "source": [
        "#Writing two statements in the same line is invalid in python but not in C/C++\n",
        "a=1\n",
        "b=5\n",
        "print(a+b)"
      ],
      "metadata": {
        "colab": {
          "base_uri": "https://localhost:8080/"
        },
        "id": "cv052RIhJrQs",
        "outputId": "2429d0f9-b0d3-40a6-ccaa-fdc1e63fe41f"
      },
      "execution_count": 1,
      "outputs": [
        {
          "output_type": "stream",
          "name": "stdout",
          "text": [
            "6\n"
          ]
        }
      ]
    },
    {
      "cell_type": "markdown",
      "source": [
        "# **Indentation**"
      ],
      "metadata": {
        "id": "AeZ_6-auKvip"
      }
    },
    {
      "cell_type": "markdown",
      "source": [
        "1. Python uses the idea of indentation to highlight the blocks of code. While in C/C++ or other programming languages it is just for the sake of code readability.\n",
        "\n",
        "2. Wrong indentation can cause **undetectable** errors to your code.\n"
      ],
      "metadata": {
        "id": "2IhvekkNK66d"
      }
    },
    {
      "cell_type": "code",
      "source": [
        "# Python program to show indentation\n",
        "x=10\n",
        "if x>13:\n",
        "  print('Hello')\n",
        "else:\n",
        "  print('World')\n",
        "print('This is indentation')"
      ],
      "metadata": {
        "colab": {
          "base_uri": "https://localhost:8080/"
        },
        "id": "91wHAsvBLnjs",
        "outputId": "65cfdd98-4265-401d-fed7-cfd4167c9898"
      },
      "execution_count": null,
      "outputs": [
        {
          "output_type": "stream",
          "name": "stdout",
          "text": [
            "World\n",
            "This is indentation\n"
          ]
        }
      ]
    },
    {
      "cell_type": "markdown",
      "source": [
        "## **Variables in Python**\n",
        "\n",
        "*   Python has no command to declare variable. Like 'int x=10;'.\n",
        "*   But the rules for variable naming are similar to that in C/C++. A variable name can contain only alphanumeric characters and underscores and cannot start with a number. They are case-sensitive.\n",
        "*  Variables do not require a data type when initialized and data type of any variable can be changed as required.\n",
        "* A variable is created whenever it is initialized.\n"
      ],
      "metadata": {
        "id": "H-bdOCPQP_iu"
      }
    },
    {
      "cell_type": "code",
      "source": [
        "x=222222222222222222222222222222222222222222222222222222222222222\n",
        "print(x)"
      ],
      "metadata": {
        "colab": {
          "base_uri": "https://localhost:8080/"
        },
        "id": "aS8rg3f1RZzN",
        "outputId": "03af7098-2f92-4914-b1a3-5a77cc710735"
      },
      "execution_count": null,
      "outputs": [
        {
          "output_type": "stream",
          "name": "stdout",
          "text": [
            "222222222222222222222222222222222222222222222222222222222222222\n"
          ]
        }
      ]
    },
    {
      "cell_type": "markdown",
      "source": [
        "\n",
        "\n",
        "*   Multiple variables can be initialized in a single statement. For eg.\n"
      ],
      "metadata": {
        "id": "PnVLFmmaRs49"
      }
    },
    {
      "cell_type": "code",
      "source": [
        "x,y,z=1, 2.2, \"Hello\"\n",
        "print(x,y,z)"
      ],
      "metadata": {
        "colab": {
          "base_uri": "https://localhost:8080/"
        },
        "id": "sY0ZDvY6SA5G",
        "outputId": "b916e3ee-614e-4b4e-f682-21d33685a18e"
      },
      "execution_count": null,
      "outputs": [
        {
          "output_type": "stream",
          "name": "stdout",
          "text": [
            "1 2.2 Hello\n"
          ]
        }
      ]
    },
    {
      "cell_type": "markdown",
      "source": [
        "# Operators in Python"
      ],
      "metadata": {
        "id": "xC2erF9XLEfo"
      }
    },
    {
      "cell_type": "markdown",
      "source": [
        "## **Arithmetic Operators**\n",
        "\n",
        "Operator | Name\n",
        "--- | ---\n",
        "`+` | Addition\n",
        "`-` | Subtraction\n",
        "`*` | Multiplication\n",
        "`/` | Division\n",
        "`%` | Modulus\n",
        "`**`| Exponentiation (Power)\n",
        "`//`| Floor division"
      ],
      "metadata": {
        "id": "6A8hSCrGX5J7"
      }
    },
    {
      "cell_type": "code",
      "source": [
        "# Arithmetic Operators\n",
        "x=10\n",
        "y=4\n",
        "print(x+y) # Addition Operator\n",
        "print(x-y) # Subtraction Operator\n",
        "print(x*y) # Multiplication Operator\n",
        "print(x/y) # Division Operator\n",
        "print(x//y) # Floor Division Operator\n",
        "print(x**y) # pow(x,y)"
      ],
      "metadata": {
        "colab": {
          "base_uri": "https://localhost:8080/"
        },
        "id": "sfqlbBraSiUu",
        "outputId": "96d58289-8574-4958-8d97-3ea85291db46"
      },
      "execution_count": null,
      "outputs": [
        {
          "output_type": "stream",
          "name": "stdout",
          "text": [
            "14\n",
            "6\n",
            "40\n",
            "2.5\n",
            "2\n",
            "10000\n"
          ]
        }
      ]
    },
    {
      "cell_type": "markdown",
      "source": [
        "## **Assignment Operators**\n",
        "\n",
        "Operator &emsp; &emsp;| Use  &emsp;  &emsp;  &emsp;   | Equivalent\n",
        "---- |----------|------------\n",
        "`=`  | \tx = 7   |   x = 7\n",
        "`+=` |\tx += 7  | \tx = x + 7\n",
        "`-=` |\tx -= 7  | \tx = x - 7\n",
        "`*=` |\tx \\*= 7 |\tx = x * 7\n",
        "`/=` |\tx /= 7  |\tx = x / 7\n",
        "`%=` |\tx %= 7  |\tx = x % 7\n",
        "`//=`|\tx //= 7 |\tx = x // 7\n",
        "`**=`|\tx **= 7 |\tx = x ** 7\n",
        "`&=` |\tx &= 7  |\tx = x & 7\n",
        "`\\|=`|\tx \\|= 7 |   x = x \\| 7\n",
        "`^=` |\tx ^= 7  |\tx = x ^ 7\n",
        "`>>=`|\tx >>= 7 |\tx = x >> 7\n",
        "`<<=`|\tx <<= 7 |\tx = x << 7"
      ],
      "metadata": {
        "id": "KPgwZAPpXrKU"
      }
    },
    {
      "cell_type": "code",
      "source": [
        "# Assignment Operators\n",
        "x = 4;\n",
        "x **= 3;\n",
        "print(x)"
      ],
      "metadata": {
        "id": "eUmaAPW_UFSV",
        "colab": {
          "base_uri": "https://localhost:8080/"
        },
        "outputId": "1857ded3-c687-4a00-ea38-f35a64a5cb5f"
      },
      "execution_count": null,
      "outputs": [
        {
          "output_type": "stream",
          "name": "stdout",
          "text": [
            "64\n"
          ]
        }
      ]
    },
    {
      "cell_type": "markdown",
      "source": [
        "## **Python Logical Operators**\n",
        "\n",
        "* In python logical operators are used directly by name. We do not have `&&` and `||` in python.\n",
        "\n",
        "Operator | Description | Example\n",
        "---|---|---\n",
        "`and` | True if both conditions are true |\tx < 4 and  x < 14\n",
        "`or`\t| True if any one of the condition is true |\tx < 10 or x > 20\n",
        "`not`\t| Returns False if the result is True and vice versa &nbsp;|\tnot(x < 5 and x < 10)"
      ],
      "metadata": {
        "id": "x_7OlCRnYLRZ"
      }
    },
    {
      "cell_type": "code",
      "source": [
        "# Logical Operators\n",
        "# In python we use logical operators directly by their name instead of && and ||\n",
        "\n",
        "x=10\n",
        "if x>5 and x<15:\n",
        "  print('Hello')\n",
        "if x>15 or x<20:\n",
        "  print('World')"
      ],
      "metadata": {
        "id": "XpITRXc6UOP6",
        "colab": {
          "base_uri": "https://localhost:8080/"
        },
        "outputId": "448ee325-7544-405a-93f5-08f3bb5497ee"
      },
      "execution_count": null,
      "outputs": [
        {
          "output_type": "stream",
          "name": "stdout",
          "text": [
            "Hello\n",
            "World\n"
          ]
        }
      ]
    },
    {
      "cell_type": "markdown",
      "source": [
        "## **Taking input in python**"
      ],
      "metadata": {
        "id": "omJSJOOlMX-1"
      }
    },
    {
      "cell_type": "markdown",
      "source": [
        "Taking input in python is fairly easy and we use the input() function to do so"
      ],
      "metadata": {
        "id": "LjPBLLaTWPsf"
      }
    },
    {
      "cell_type": "code",
      "source": [
        "name = input(\"What is your name ? \")\n",
        "print(\"Welcome \" + name)"
      ],
      "metadata": {
        "colab": {
          "base_uri": "https://localhost:8080/"
        },
        "id": "6IJ55JStWgGR",
        "outputId": "00d0e607-6778-4b2a-f41d-03ee119f5aac"
      },
      "execution_count": null,
      "outputs": [
        {
          "output_type": "stream",
          "name": "stdout",
          "text": [
            "What is your name ? Dhruv\n",
            "Welcome Dhruv\n"
          ]
        }
      ]
    },
    {
      "cell_type": "code",
      "source": [
        "x= input()\n",
        "print(x, type(x)) # Input is taken by default in string type, so we need to typecast."
      ],
      "metadata": {
        "colab": {
          "base_uri": "https://localhost:8080/"
        },
        "id": "PrMzsg-mWqkg",
        "outputId": "8e879891-6e61-4073-f55b-1af772517afd"
      },
      "execution_count": null,
      "outputs": [
        {
          "output_type": "stream",
          "name": "stdout",
          "text": [
            "15\n",
            "15 <class 'str'>\n"
          ]
        }
      ]
    },
    {
      "cell_type": "markdown",
      "source": [
        "##**Type Casting**\n",
        "\n",
        "* Type casting can be used to convert variables from one type to another."
      ],
      "metadata": {
        "id": "3DkDYpnCMtl1"
      }
    },
    {
      "cell_type": "code",
      "source": [
        "x = float(input(\"Enter a number: \"))\n",
        "print(x + 10)"
      ],
      "metadata": {
        "colab": {
          "base_uri": "https://localhost:8080/"
        },
        "id": "GiSCyxRSXVTl",
        "outputId": "c12762b7-2e9d-4b8e-e20c-4d606e4f5004"
      },
      "execution_count": null,
      "outputs": [
        {
          "output_type": "stream",
          "name": "stdout",
          "text": [
            "Enter a number: 15\n",
            "25.0\n"
          ]
        }
      ]
    },
    {
      "cell_type": "markdown",
      "source": [
        "Type casting can be mainly done with these data type function:\n",
        "* `str()` : Convert int or float type to string\n",
        "* `int()` : Convert string or float type to integer\n",
        "* `float()` : Convert string or int type to float"
      ],
      "metadata": {
        "id": "XbWyHBO5XaUq"
      }
    },
    {
      "cell_type": "code",
      "source": [
        "x_int = 10\n",
        "x_str = \"12\"\n",
        "x_float = 14.7\n",
        "\n",
        "# str()\n",
        "print(\"Result: \" + str(x_int));\n",
        "print(\"Result: \" + str(x_float));\n",
        "print('')\n",
        "\n",
        "# int()\n",
        "print(3 + x_float)\n",
        "print(3 + int(x_float))\n",
        "print(4 + int(x_str), type(int(x_str)))\n",
        "print('')\n",
        "\n",
        "# float()\n",
        "print(1.2 + float(x_int), type(float(x_int)))\n",
        "print(1.3 + float(x_str))\n",
        "print('')\n",
        "\n",
        "# original variable types\n",
        "print(type(x_int), type(x_str), type(x_float))"
      ],
      "metadata": {
        "colab": {
          "base_uri": "https://localhost:8080/"
        },
        "id": "m9uVsvlNXdUA",
        "outputId": "0f5f57fc-833e-4b4f-8690-cef395967c11"
      },
      "execution_count": null,
      "outputs": [
        {
          "output_type": "stream",
          "name": "stdout",
          "text": [
            "Result: 10\n",
            "Result: 14.7\n",
            "\n",
            "17.7\n",
            "17\n",
            "16 <class 'int'>\n",
            "\n",
            "11.2 <class 'float'>\n",
            "13.3\n",
            "\n",
            "<class 'int'> <class 'str'> <class 'float'>\n"
          ]
        }
      ]
    },
    {
      "cell_type": "markdown",
      "source": [
        "* One must note that the type casting functions do not change the type of the original variable but instead return a new value of the desired type. To change type of the original variable one can use,"
      ],
      "metadata": {
        "id": "pdKhCw1dXjJ4"
      }
    },
    {
      "cell_type": "code",
      "source": [
        "x = \"10\"\n",
        "print(type(x))\n",
        "y = int(x)\n",
        "print(type(x), type(y))"
      ],
      "metadata": {
        "colab": {
          "base_uri": "https://localhost:8080/"
        },
        "id": "1q1NOd3CXkAm",
        "outputId": "aab7c440-f80d-4b0b-cc4e-70437025f4b9"
      },
      "execution_count": null,
      "outputs": [
        {
          "output_type": "stream",
          "name": "stdout",
          "text": [
            "<class 'str'>\n",
            "<class 'str'> <class 'int'>\n"
          ]
        }
      ]
    },
    {
      "cell_type": "markdown",
      "source": [
        "## Coding Problem - 1"
      ],
      "metadata": {
        "id": "WAx_O-RUS1n1"
      }
    },
    {
      "cell_type": "code",
      "source": [
        "# Write a program that takes a user's name and age as input and prints a Hello World! message that includes their name and age.\n",
        "name = input(\"Enter your name: \")\n",
        "print(\"\")\n",
        "age = input(\"Enter you Age: \")\n",
        "print(\"Hello \" + name + \"(Age: \" + age + \")\")"
      ],
      "metadata": {
        "id": "EuPLCH6WS6eG",
        "colab": {
          "base_uri": "https://localhost:8080/"
        },
        "outputId": "cbca5cb4-0c44-40f4-d5a5-7cf6492d8678"
      },
      "execution_count": 2,
      "outputs": [
        {
          "output_type": "stream",
          "name": "stdout",
          "text": [
            "Enter your name: Parth\n",
            "\n",
            "Enter you Age: 18\n",
            "Hello Parth(Age: 18)\n"
          ]
        }
      ]
    },
    {
      "cell_type": "code",
      "source": [
        "# Create a program that swaps the values of two variables without using a third variable.\n",
        "a = 5\n",
        "b = 3\n",
        "a += b\n",
        "b = a - b\n",
        "a = a - b\n",
        "print(\"a = \",a)\n",
        "print(\"b = \",b)"
      ],
      "metadata": {
        "id": "GDM0iGNXTEfT",
        "colab": {
          "base_uri": "https://localhost:8080/"
        },
        "outputId": "d51a147d-d3db-4cd1-cfa1-9740c11a4ddb"
      },
      "execution_count": 5,
      "outputs": [
        {
          "output_type": "stream",
          "name": "stdout",
          "text": [
            "a =  3\n",
            "b =  5\n"
          ]
        }
      ]
    },
    {
      "cell_type": "markdown",
      "source": [],
      "metadata": {
        "id": "U6kIMhhF41VQ"
      }
    },
    {
      "cell_type": "markdown",
      "source": [
        "# **Strings in Python**\n",
        "\n",
        "* Any data within double quotes `\" \"` or single quotes `' '` is treated as a string in Python.\n"
      ],
      "metadata": {
        "id": "7ipifTRTQ1wa"
      }
    },
    {
      "cell_type": "code",
      "source": [
        "myString = 'Python is Fun!'\n",
        "myString = \"Python is Fun!\""
      ],
      "metadata": {
        "id": "yVb4UORzRCGu"
      },
      "execution_count": null,
      "outputs": []
    },
    {
      "cell_type": "markdown",
      "source": [
        "* A multiline string can be assigned to a variable using three quotes."
      ],
      "metadata": {
        "id": "xcUwB6ZZRCyL"
      }
    },
    {
      "cell_type": "code",
      "source": [
        "myMultiString = \"\"\"This is\n",
        "a multiline\n",
        "string.\"\"\"\n",
        "print(myMultiString)"
      ],
      "metadata": {
        "id": "vUYafE2_RFf2",
        "colab": {
          "base_uri": "https://localhost:8080/"
        },
        "outputId": "70e74c9a-e2cc-4676-8030-a2eaca441918"
      },
      "execution_count": null,
      "outputs": [
        {
          "output_type": "stream",
          "name": "stdout",
          "text": [
            "This is \n",
            "a multiline \n",
            "string.\n"
          ]
        }
      ]
    },
    {
      "cell_type": "markdown",
      "source": [
        "* Using this as a workaround, we can simply enclose code between three quotes (single or double) to commment them. Python will treat it as a string which is not assigned to any variable and will hence ignore it.\n"
      ],
      "metadata": {
        "id": "3KO8xq6ARP3u"
      }
    },
    {
      "cell_type": "code",
      "source": [
        "'''\n",
        "print(\"Hello!\")\n",
        "print(\"World\")\n",
        "'''\n",
        "print(\"I Love Python!\")"
      ],
      "metadata": {
        "id": "IfznS99WRS1f",
        "colab": {
          "base_uri": "https://localhost:8080/"
        },
        "outputId": "2728bdb0-86ff-4d16-f73c-b381c37c97e5"
      },
      "execution_count": null,
      "outputs": [
        {
          "output_type": "stream",
          "name": "stdout",
          "text": [
            "I Love Python!\n"
          ]
        }
      ]
    },
    {
      "cell_type": "markdown",
      "source": [
        "* Python is packed with many string ***methods*** which make working with strings very easy."
      ],
      "metadata": {
        "id": "DaIvZ_d4RXnz"
      }
    },
    {
      "cell_type": "code",
      "source": [
        "s1 = \"Thisisastring\"\n",
        "\n",
        "# Formatting\n",
        "print(s1.upper())\n",
        "print(s1.lower())\n",
        "print(s1.swapcase())\n",
        "print()\n",
        "\n",
        "# Boolean checks\n",
        "print(s1.isalpha())\n",
        "print(s1.isnumeric())"
      ],
      "metadata": {
        "id": "lmYyoeT_RYzy",
        "colab": {
          "base_uri": "https://localhost:8080/"
        },
        "outputId": "feeed9fe-d060-4bef-de00-62d6aebeac28"
      },
      "execution_count": null,
      "outputs": [
        {
          "output_type": "stream",
          "name": "stdout",
          "text": [
            "THISISASTRING\n",
            "thisisastring\n",
            "tHISISASTRING\n",
            "\n",
            "True\n",
            "False\n"
          ]
        }
      ]
    },
    {
      "cell_type": "markdown",
      "source": [
        "## **`split()` and `join()` string methods**\n",
        "\n",
        "* `split()` : Splits the string in chunks separated by the input arguement.\n",
        "* `join()` : Joins the items in iterable given as arguement, with the calling string as separator and returns new string."
      ],
      "metadata": {
        "id": "fGhp-TQXRcVg"
      }
    },
    {
      "cell_type": "code",
      "source": [
        "sample = \"Python_is_Fun!\"\n",
        "stringList = sample.split('_')   #Default separator is ' '\n",
        "print(stringList)"
      ],
      "metadata": {
        "id": "U6bnGE7QRfk1",
        "colab": {
          "base_uri": "https://localhost:8080/"
        },
        "outputId": "98d73ca8-d622-4eac-bfc4-f2bd4ac96e69"
      },
      "execution_count": null,
      "outputs": [
        {
          "output_type": "stream",
          "name": "stdout",
          "text": [
            "['Python', 'is', 'Fun!']\n"
          ]
        }
      ]
    },
    {
      "cell_type": "code",
      "source": [
        "separator = \"_\"\n",
        "joinedStr = \"++++\".join(stringList)  # stringList is a python iterable\n",
        "print(joinedStr)"
      ],
      "metadata": {
        "id": "aIDyceArRkt8",
        "colab": {
          "base_uri": "https://localhost:8080/"
        },
        "outputId": "ee88a02d-788f-4a8f-ecee-7d9fbf1559b1"
      },
      "execution_count": null,
      "outputs": [
        {
          "output_type": "stream",
          "name": "stdout",
          "text": [
            "Python++++is++++Fun!\n"
          ]
        }
      ]
    },
    {
      "cell_type": "code",
      "source": [],
      "metadata": {
        "id": "iyiSzHKp4xsI"
      },
      "execution_count": null,
      "outputs": []
    },
    {
      "cell_type": "markdown",
      "metadata": {
        "id": "TAcvS5CXwc55"
      },
      "source": [
        "# **Python Loops**\n",
        "\n",
        "\n"
      ]
    },
    {
      "cell_type": "markdown",
      "metadata": {
        "id": "ckYq3agCzvWx"
      },
      "source": [
        "## **While Loop**\n",
        "* The while loop will execute the code block as long as the given condition is true."
      ]
    },
    {
      "cell_type": "code",
      "execution_count": null,
      "metadata": {
        "colab": {
          "base_uri": "https://localhost:8080/"
        },
        "id": "d16yQYCvw2zQ",
        "outputId": "c2207366-30e3-45f5-ab8e-5f24e3db93e8"
      },
      "outputs": [
        {
          "name": "stdout",
          "output_type": "stream",
          "text": [
            "10 9 8 7 6 5 4 3 2 1 "
          ]
        }
      ],
      "source": [
        "counter = 10\n",
        "while counter > 0:\n",
        "    print(counter, end=' ')\n",
        "    counter -= 1                # Python does not support counter --"
      ]
    },
    {
      "cell_type": "markdown",
      "metadata": {
        "id": "8kjyQ928xKYR"
      },
      "source": [
        "### `break` statement :\n",
        " Used to break out of the loop without the loop condition being evaluated to false."
      ]
    },
    {
      "cell_type": "code",
      "execution_count": null,
      "metadata": {
        "colab": {
          "base_uri": "https://localhost:8080/"
        },
        "id": "T1zyp4nBxWWl",
        "outputId": "adef29dc-cb57-4404-d6ee-03e8507c3a10"
      },
      "outputs": [
        {
          "output_type": "stream",
          "name": "stdout",
          "text": [
            "10 9 8 7 6 5 \n",
            " 5\n"
          ]
        }
      ],
      "source": [
        "counter = 10\n",
        "while counter > 0:\n",
        "    print(counter, end=' ')\n",
        "    if counter == 5:\n",
        "        break\n",
        "    counter -= 1\n",
        "#print('\\n',counter) Can anyone guess the value of the counter here?"
      ]
    },
    {
      "cell_type": "markdown",
      "metadata": {
        "id": "dX4qUnoaxmLh"
      },
      "source": [
        "### `continue` statement:\n",
        "Used to *continue* the next iteration of the loop without executing the lines after this statement.\n"
      ]
    },
    {
      "cell_type": "code",
      "execution_count": null,
      "metadata": {
        "colab": {
          "base_uri": "https://localhost:8080/"
        },
        "id": "DM0uIKyXxhlt",
        "outputId": "104f9ee0-a0ef-4a5c-9afa-c928fc1809d9"
      },
      "outputs": [
        {
          "output_type": "stream",
          "name": "stdout",
          "text": [
            "10 8 6 4 2 0 "
          ]
        }
      ],
      "source": [
        "counter = 10\n",
        "while counter > 0:\n",
        "    if counter%2 == 1:\n",
        "        counter -= 1\n",
        "        continue                    # Can you spot a bug in this code ?\n",
        "    print(counter, end=' ')\n",
        "    counter -= 1"
      ]
    },
    {
      "cell_type": "markdown",
      "metadata": {
        "id": "gRM9XY6lyay1"
      },
      "source": [
        "### `else` statement in Loop\n",
        "\n",
        "In python, we can write an `else` block after the loop. This block is executed once the loop condition evaluates to false."
      ]
    },
    {
      "cell_type": "code",
      "execution_count": null,
      "metadata": {
        "colab": {
          "base_uri": "https://localhost:8080/"
        },
        "id": "ZsobmxJ8y4hV",
        "outputId": "1798cfea-32b9-4d20-bdcd-0c6a50e568ed"
      },
      "outputs": [
        {
          "output_type": "stream",
          "name": "stdout",
          "text": [
            "10 "
          ]
        }
      ],
      "source": [
        "counter = 10\n",
        "while counter > 0:\n",
        "    print(counter, end=' ')\n",
        "    break\n",
        "    counter -= 1\n",
        "else:\n",
        "    print(\"\\nFinal Counter:\", counter)"
      ]
    },
    {
      "cell_type": "markdown",
      "metadata": {
        "id": "m7A3r_O-zchj"
      },
      "source": [
        "* If `break` statement is used to exit loop, `else` block will NOT be executed."
      ]
    },
    {
      "cell_type": "markdown",
      "metadata": {
        "id": "zbNwiHOAzz4Z"
      },
      "source": [
        "## **For Loop**\n",
        "* The for loop is usually executed for a range of numbers or items.\n"
      ]
    },
    {
      "cell_type": "code",
      "execution_count": null,
      "metadata": {
        "colab": {
          "base_uri": "https://localhost:8080/"
        },
        "id": "D-8jomOi0JoP",
        "outputId": "506a8ec0-c440-40c2-81ba-81d629d0ccc6"
      },
      "outputs": [
        {
          "name": "stdout",
          "output_type": "stream",
          "text": [
            "Python\n",
            "C\n",
            "Ruby\n",
            "Java\n"
          ]
        }
      ],
      "source": [
        "lang = [\"Python\", \"C\", \"Ruby\", \"Java\"]\n",
        "for x in lang:             # x serves as a temp variable\n",
        "    print(x)"
      ]
    },
    {
      "cell_type": "code",
      "execution_count": null,
      "metadata": {
        "colab": {
          "base_uri": "https://localhost:8080/"
        },
        "id": "JY_Z9A2F0p4y",
        "outputId": "474891cc-86ba-46ff-da86-b9a54f62eea4"
      },
      "outputs": [
        {
          "name": "stdout",
          "output_type": "stream",
          "text": [
            "I\n",
            "n\n",
            "d\n",
            "i\n",
            "a\n"
          ]
        }
      ],
      "source": [
        "# Looping through a string\n",
        "for c in \"India\":\n",
        "  print(c)"
      ]
    },
    {
      "cell_type": "markdown",
      "metadata": {
        "id": "SIDTd8Th0kky"
      },
      "source": [
        "### **`range()` function**\n",
        "\n",
        "* The `range(start, end, step)` function is used to create a sequence of numbers from `start` to `end` with an increment of `step`.\n",
        "* `end` is not included in the sequence.\n",
        "\n",
        "`range()` can be used in three ways:"
      ]
    },
    {
      "cell_type": "code",
      "execution_count": null,
      "metadata": {
        "colab": {
          "base_uri": "https://localhost:8080/"
        },
        "id": "ahsmnHLR1rYL",
        "outputId": "ab1717a2-4443-4eb2-fa64-210b3274c179"
      },
      "outputs": [
        {
          "name": "stdout",
          "output_type": "stream",
          "text": [
            "0 1 2 3 4 "
          ]
        }
      ],
      "source": [
        "# If only a single arguement is given, range defaults start value to 0.\n",
        "# Value of step is taken 1 by default.\n",
        "\n",
        "for i in range(5):\n",
        "    print(i, end=\" \")"
      ]
    },
    {
      "cell_type": "code",
      "execution_count": null,
      "metadata": {
        "colab": {
          "base_uri": "https://localhost:8080/"
        },
        "id": "qVJb5Wki2c9y",
        "outputId": "757fcbfc-b02c-4dcc-d12f-1063df39d559"
      },
      "outputs": [
        {
          "name": "stdout",
          "output_type": "stream",
          "text": [
            "2 3 4 5 6 "
          ]
        }
      ],
      "source": [
        "for i in range(2, 7):\n",
        "    print(i, end=\" \")"
      ]
    },
    {
      "cell_type": "code",
      "execution_count": null,
      "metadata": {
        "colab": {
          "base_uri": "https://localhost:8080/"
        },
        "id": "-j9zl3AL2hai",
        "outputId": "a9ee5389-c52e-479c-ad66-34fc645e4b78"
      },
      "outputs": [
        {
          "name": "stdout",
          "output_type": "stream",
          "text": [
            "10 9 8 7 6 5 "
          ]
        }
      ],
      "source": [
        "for i in range(10, 4, -1):\n",
        "    print(i, end=\" \")"
      ]
    },
    {
      "cell_type": "code",
      "execution_count": null,
      "metadata": {
        "colab": {
          "base_uri": "https://localhost:8080/"
        },
        "id": "rDD6UKu9TFRF",
        "outputId": "d5a76e97-f7bf-4c42-bd6b-ff2177481952"
      },
      "outputs": [
        {
          "name": "stdout",
          "output_type": "stream",
          "text": [
            "0\n",
            "1\n",
            "2\n",
            "3\n"
          ]
        }
      ],
      "source": [
        "ls = [0, 1, 2, 3]\n",
        "for i in range(len(ls)):\n",
        "    print(ls[i])"
      ]
    },
    {
      "cell_type": "markdown",
      "source": [
        "## Coding Problem-2"
      ],
      "metadata": {
        "id": "rQFYTSExTbUB"
      }
    },
    {
      "cell_type": "code",
      "source": [
        "# Create a program that prints the first 10 numbers of the Fibonacci sequence.\n",
        "n = 1\n",
        "last = 0\n",
        "for i in range(10):\n",
        "    print(last, \" \")\n",
        "    c = last\n",
        "    last = n\n",
        "    n = n + c"
      ],
      "metadata": {
        "id": "1W9f-6RiTeaq",
        "colab": {
          "base_uri": "https://localhost:8080/"
        },
        "outputId": "385aa4d4-c714-4e0b-8706-122bc1ddfdde"
      },
      "execution_count": 7,
      "outputs": [
        {
          "output_type": "stream",
          "name": "stdout",
          "text": [
            "0  \n",
            "1  \n",
            "1  \n",
            "2  \n",
            "3  \n",
            "5  \n",
            "8  \n",
            "13  \n",
            "21  \n",
            "34  \n"
          ]
        }
      ]
    },
    {
      "cell_type": "markdown",
      "source": [
        "# **Python Collections**"
      ],
      "metadata": {
        "id": "YnQeYzzaSLrX"
      }
    },
    {
      "cell_type": "markdown",
      "source": [
        "## **Lists**\n",
        "\n",
        "* Python lists are used to store multiple items in a single variable.\n",
        "* An important point about lists is that they can comprise of multiple types of variables.\n",
        "* Lists are 0-indexed and any list item can be accessed using this index.\n",
        "* List items are mutable (changeable)."
      ],
      "metadata": {
        "id": "zX_bDbkDHCCf"
      }
    },
    {
      "cell_type": "code",
      "source": [
        "myList = [10, 'ListItem', 14.5, 10j]\n",
        "print(type(myList[0]), type(myList[1]), type(myList[2]), type(myList[3]))\n",
        "\n",
        "# We can get the length of a list (or any other iterable) using len()\n",
        "print(\"Length of List:\", len(myList))"
      ],
      "metadata": {
        "id": "jyyPPzblHHgo",
        "colab": {
          "base_uri": "https://localhost:8080/"
        },
        "outputId": "b6429693-19f6-4591-8509-e17819f45ff0"
      },
      "execution_count": null,
      "outputs": [
        {
          "output_type": "stream",
          "name": "stdout",
          "text": [
            "<class 'int'> <class 'str'> <class 'float'> <class 'complex'>\n",
            "Length of List: 4\n"
          ]
        }
      ]
    },
    {
      "cell_type": "markdown",
      "source": [
        "### **List Indexing**\n",
        "\n",
        "* Lists are 0-indexed.\n",
        "* Python also supports negative indexing. In negative indexing, the last item is assigned index `-1` and decreases by 1 as we move towards the first item."
      ],
      "metadata": {
        "id": "weeOHvB6HLFX"
      }
    },
    {
      "cell_type": "code",
      "source": [
        "ls = [10, 20, 30, 40, 50, 60]\n",
        "\n",
        "print(ls[5], ls[-1])\n",
        "print(ls[4], ls[-2])\n",
        "print(ls[0], ls[-6])"
      ],
      "metadata": {
        "id": "ii4cKgX8HL_H",
        "colab": {
          "base_uri": "https://localhost:8080/"
        },
        "outputId": "f1eda540-978a-4c9b-82de-348bd35b4689"
      },
      "execution_count": null,
      "outputs": [
        {
          "output_type": "stream",
          "name": "stdout",
          "text": [
            "60 60\n",
            "50 50\n",
            "10 10\n"
          ]
        }
      ]
    },
    {
      "cell_type": "markdown",
      "source": [
        "* Python also supports range indexing to get a range of items from a list.\n",
        "* The range index is of the form `[i:j]`, which returns items from index `i` to `j-1` excluding item at index `j`"
      ],
      "metadata": {
        "id": "-UkzMAQ2HWDe"
      }
    },
    {
      "cell_type": "code",
      "source": [
        "fruits = [\"apple\", \"mango\", \"orange\", \"kiwi\", \"banana\", \"cherry\", \"melon\"]\n",
        "\n",
        "print(fruits[1:3])      # Elements [1] and [2] are printed."
      ],
      "metadata": {
        "colab": {
          "base_uri": "https://localhost:8080/"
        },
        "id": "_fmohqLBHgLo",
        "outputId": "161f688c-cc99-4954-9ffb-b976902ed54c"
      },
      "execution_count": null,
      "outputs": [
        {
          "output_type": "stream",
          "name": "stdout",
          "text": [
            "['mango', 'orange']\n"
          ]
        }
      ]
    },
    {
      "cell_type": "code",
      "source": [
        "# If first index is left empty, it will default to first index, i.e 0.\n",
        "print(fruits[:3])"
      ],
      "metadata": {
        "colab": {
          "base_uri": "https://localhost:8080/"
        },
        "id": "Z70a3ll_Hhc5",
        "outputId": "c19ba928-42fc-4e31-9872-a83b26aaf783"
      },
      "execution_count": null,
      "outputs": [
        {
          "output_type": "stream",
          "name": "stdout",
          "text": [
            "['apple', 'mango', 'orange']\n"
          ]
        }
      ]
    },
    {
      "cell_type": "code",
      "source": [
        "# If last index is left empty, it will default to last index.\n",
        "print(fruits[1:])"
      ],
      "metadata": {
        "colab": {
          "base_uri": "https://localhost:8080/"
        },
        "id": "CEaFXHu6HmAU",
        "outputId": "0f02e63b-33db-4fdb-c88f-46c03bcd83a8"
      },
      "execution_count": null,
      "outputs": [
        {
          "output_type": "stream",
          "name": "stdout",
          "text": [
            "['mango', 'orange', 'kiwi', 'banana', 'cherry', 'melon']\n"
          ]
        }
      ]
    },
    {
      "cell_type": "code",
      "source": [
        "# Negative indexing can also be used here\n",
        "print(fruits[-4:-2])\n",
        "\n",
        "print(fruits[-2:-4]) # What will this print? and Why? # Can you rectify this?"
      ],
      "metadata": {
        "colab": {
          "base_uri": "https://localhost:8080/"
        },
        "id": "qAmCNXKpIHUg",
        "outputId": "64b5924e-8fe0-4284-c588-828d9e8f26bb"
      },
      "execution_count": null,
      "outputs": [
        {
          "output_type": "stream",
          "name": "stdout",
          "text": [
            "['kiwi', 'banana']\n",
            "[]\n"
          ]
        }
      ]
    },
    {
      "cell_type": "markdown",
      "source": [
        "* A double colon syntax can also be used for slicing lists. It is of the format `[start : stop : steps]`. The `steps` is the value incremented in each step.\n"
      ],
      "metadata": {
        "id": "LESXCqKbJncK"
      }
    },
    {
      "cell_type": "code",
      "source": [
        "print(fruits[1:5:2])"
      ],
      "metadata": {
        "id": "vgtPfdJuJo8b",
        "colab": {
          "base_uri": "https://localhost:8080/"
        },
        "outputId": "ac8377ff-1cda-4026-c866-5ebf9a5783b2"
      },
      "execution_count": null,
      "outputs": [
        {
          "output_type": "stream",
          "name": "stdout",
          "text": [
            "['mango', 'kiwi']\n"
          ]
        }
      ]
    },
    {
      "cell_type": "markdown",
      "source": [
        "* This can be used to reverse lists. Using a negative value for `steps` will iterate the list in reverse fashion."
      ],
      "metadata": {
        "id": "XO0ndm0bJvuI"
      }
    },
    {
      "cell_type": "code",
      "source": [
        "print(fruits[4:1:-1])"
      ],
      "metadata": {
        "id": "1OpoiejZJwha",
        "colab": {
          "base_uri": "https://localhost:8080/"
        },
        "outputId": "e0a9d230-f725-4e05-e6c1-25db3fd4b7ac"
      },
      "execution_count": null,
      "outputs": [
        {
          "output_type": "stream",
          "name": "stdout",
          "text": [
            "['banana', 'kiwi', 'orange']\n"
          ]
        }
      ]
    },
    {
      "cell_type": "code",
      "source": [
        "# We can reverse the entire list using this\n",
        "print(fruits[::-1])\n",
        "print(fruits)"
      ],
      "metadata": {
        "id": "U57LYzmWJ--H",
        "colab": {
          "base_uri": "https://localhost:8080/"
        },
        "outputId": "c2eae06d-e054-4b29-e0f8-38f42c8d243d"
      },
      "execution_count": null,
      "outputs": [
        {
          "output_type": "stream",
          "name": "stdout",
          "text": [
            "['melon', 'cherry', 'banana', 'kiwi', 'orange', 'mango', 'apple']\n",
            "['apple', 'mango', 'orange', 'kiwi', 'banana', 'cherry', 'melon']\n"
          ]
        }
      ]
    },
    {
      "cell_type": "markdown",
      "source": [
        "### **Adding Items**\n",
        "\n",
        "* Items can be added to lists using `append()` and `insert()`."
      ],
      "metadata": {
        "id": "v8XSZUuNKORn"
      }
    },
    {
      "cell_type": "code",
      "source": [
        "ls = [10, 20, 30]\n",
        "\n",
        "ls.append(40)       # Append adds an element to the end of the list.\n",
        "print(ls)"
      ],
      "metadata": {
        "id": "l3C2qUXMKPSe",
        "colab": {
          "base_uri": "https://localhost:8080/"
        },
        "outputId": "b74580af-e688-4eb3-ea57-4ca87b783ae2"
      },
      "execution_count": null,
      "outputs": [
        {
          "output_type": "stream",
          "name": "stdout",
          "text": [
            "[10, 20, 30, 40]\n"
          ]
        }
      ]
    },
    {
      "cell_type": "code",
      "source": [
        "ls = [10, 20, 40]\n",
        "\n",
        "ls.insert(2, 30)      # .insert(index, value)\n",
        "print(ls)"
      ],
      "metadata": {
        "id": "KHe-NhiLKVrO",
        "colab": {
          "base_uri": "https://localhost:8080/"
        },
        "outputId": "b88d428a-cab7-49cc-b3cb-8039a50eb8e8"
      },
      "execution_count": null,
      "outputs": [
        {
          "output_type": "stream",
          "name": "stdout",
          "text": [
            "[10, 20, 30, 40]\n"
          ]
        }
      ]
    },
    {
      "cell_type": "markdown",
      "source": [
        "* We can even add another list entirely."
      ],
      "metadata": {
        "id": "jwn8Dz3rKavK"
      }
    },
    {
      "cell_type": "code",
      "source": [
        "ls1 = [10, 20, 30]\n",
        "ls2 = [40, 50, 60]\n",
        "\n",
        "# Simply + operator can be used\n",
        "ls3 = ls1 + ls2\n",
        "print(ls3)\n",
        "\n",
        "\n",
        "# .extend() method can be used to add elements from any iterable\n",
        "ls1 = [10, 20, 30]\n",
        "ls1.extend(ls2)     # A new list is not returned, ls2 is appended to ls1\n",
        "print(ls1)"
      ],
      "metadata": {
        "id": "SWjTG3F7Kb1U",
        "colab": {
          "base_uri": "https://localhost:8080/"
        },
        "outputId": "e969a511-d5ca-48fe-be96-f734a4a4f782"
      },
      "execution_count": null,
      "outputs": [
        {
          "output_type": "stream",
          "name": "stdout",
          "text": [
            "[10, 20, 30, 40, 50, 60]\n",
            "[10, 20, 30, 40, 50, 60]\n"
          ]
        }
      ]
    },
    {
      "cell_type": "markdown",
      "source": [
        "### **Removing Items**\n",
        "\n",
        "* The remove() method removes the specified item."
      ],
      "metadata": {
        "id": "2IfPW1E1KyHa"
      }
    },
    {
      "cell_type": "code",
      "source": [
        "ls = [\"India\", \"Pakistan\", \"USA\"]\n",
        "ls.remove(\"Pakistan\")\n",
        "print(ls)"
      ],
      "metadata": {
        "id": "-sV_bEnNLFgU",
        "colab": {
          "base_uri": "https://localhost:8080/"
        },
        "outputId": "954c7ef4-9d9e-48d6-bc7b-ead75cbaa00e"
      },
      "execution_count": null,
      "outputs": [
        {
          "output_type": "stream",
          "name": "stdout",
          "text": [
            "['India', 'USA']\n"
          ]
        }
      ]
    },
    {
      "cell_type": "markdown",
      "source": [
        "* The pop() method removes the item at given index. If not specified, the last item is removed"
      ],
      "metadata": {
        "id": "bWlOVWdTLPXj"
      }
    },
    {
      "cell_type": "code",
      "source": [
        "ls = [\"India\", \"Pakistan\", \"USA\"]\n",
        "x = ls.pop()\n",
        "print(ls)\n",
        "print(x)"
      ],
      "metadata": {
        "id": "D8LE9nExLQNM",
        "colab": {
          "base_uri": "https://localhost:8080/"
        },
        "outputId": "72ca8980-0791-46c2-c29e-dac1744e94c3"
      },
      "execution_count": null,
      "outputs": [
        {
          "output_type": "stream",
          "name": "stdout",
          "text": [
            "['India', 'Pakistan']\n",
            "USA\n"
          ]
        }
      ]
    },
    {
      "cell_type": "markdown",
      "source": [
        "* clear() method deletes all elements of the list"
      ],
      "metadata": {
        "id": "CQkBthoKLVLK"
      }
    },
    {
      "cell_type": "code",
      "source": [
        "ls = [\"Pakistan\", \"USA\", \"Russia\"]\n",
        "ls.clear()\n",
        "print(ls)"
      ],
      "metadata": {
        "id": "r_I1v92oLWDJ",
        "colab": {
          "base_uri": "https://localhost:8080/"
        },
        "outputId": "ac60e05b-ecb0-4204-d431-22a85b89ea88"
      },
      "execution_count": 19,
      "outputs": [
        {
          "output_type": "stream",
          "name": "stdout",
          "text": [
            "[]\n"
          ]
        }
      ]
    },
    {
      "cell_type": "code",
      "source": [
        "# Similarly del also can be used.\n",
        "ls = [\"Pakistan\", \"USA\", \"Russia\"]\n",
        "del ls[0]\n",
        "print(ls)\n",
        "\n",
        "del ls\n",
        "#print(ls)"
      ],
      "metadata": {
        "id": "AsTGEEVuLdWZ",
        "colab": {
          "base_uri": "https://localhost:8080/"
        },
        "outputId": "4e278e20-a567-4d68-8234-6095795df63a"
      },
      "execution_count": 18,
      "outputs": [
        {
          "output_type": "stream",
          "name": "stdout",
          "text": [
            "['USA', 'Russia']\n"
          ]
        }
      ]
    },
    {
      "cell_type": "markdown",
      "source": [
        "### **Sorting**\n",
        "\n",
        "* Sorting operation can be done by simply using the sort() method.\n",
        "* By default, sorting is done in ascending order. For descending order, we set the arguement `reverse = True`"
      ],
      "metadata": {
        "id": "-ndVhfNyL4Th"
      }
    },
    {
      "cell_type": "code",
      "source": [
        "ls = [3, 5, 1, 2, 6, 7, -4, 5]\n",
        "ls.sort()                  # Inplace sorting\n",
        "print(ls)"
      ],
      "metadata": {
        "id": "ajiTGAN8L6eE",
        "colab": {
          "base_uri": "https://localhost:8080/"
        },
        "outputId": "c6250965-18c0-423b-e67b-c7c7d0943e24"
      },
      "execution_count": 17,
      "outputs": [
        {
          "output_type": "stream",
          "name": "stdout",
          "text": [
            "[-4, 1, 2, 3, 5, 5, 6, 7]\n"
          ]
        }
      ]
    },
    {
      "cell_type": "code",
      "source": [
        "ls = [3, 5, 1, 2, 6, 7, -4, 5]\n",
        "ls.sort(reverse=True)       # Reverse sorting\n",
        "print(ls)"
      ],
      "metadata": {
        "id": "7psgIsNxL_Q1",
        "colab": {
          "base_uri": "https://localhost:8080/"
        },
        "outputId": "8b777a73-b875-41eb-8fb3-c5f2d3ca3007"
      },
      "execution_count": 16,
      "outputs": [
        {
          "output_type": "stream",
          "name": "stdout",
          "text": [
            "[7, 6, 5, 5, 3, 2, 1, -4]\n"
          ]
        }
      ]
    },
    {
      "cell_type": "code",
      "source": [
        "# For creating a new variable, we can use the sorted() function.\n",
        "ls = [3, 5, 1, 2, 6, 7, -4, 5]\n",
        "print(sorted(ls))\n",
        "print(ls)"
      ],
      "metadata": {
        "id": "OK40WDccMBpL",
        "colab": {
          "base_uri": "https://localhost:8080/"
        },
        "outputId": "db52baae-d7aa-4411-dda2-46235a2d6278"
      },
      "execution_count": 15,
      "outputs": [
        {
          "output_type": "stream",
          "name": "stdout",
          "text": [
            "[-4, 1, 2, 3, 5, 5, 6, 7]\n",
            "[3, 5, 1, 2, 6, 7, -4, 5]\n"
          ]
        }
      ]
    },
    {
      "cell_type": "markdown",
      "source": [
        "> Python supports a lot of methods for lists. You can refer to these methods here.\n",
        "https://www.w3schools.com/python/python_lists_methods.asp"
      ],
      "metadata": {
        "id": "CTj3_QG3MLnc"
      }
    },
    {
      "cell_type": "markdown",
      "source": [
        "####List comprehensions:"
      ],
      "metadata": {
        "id": "ydNaWdSOa_vz"
      }
    },
    {
      "cell_type": "markdown",
      "source": [
        "When programming, frequently we want to transform one type of data into another. As a simple example, consider the following code that computes square numbers:"
      ],
      "metadata": {
        "id": "phoCqUk_bTk9"
      }
    },
    {
      "cell_type": "code",
      "source": [
        "nums = [0, 1, 2, 3, 4]\n",
        "squares = []\n",
        "for x in nums:\n",
        "    squares.append(x ** 2)\n",
        "print(squares)"
      ],
      "metadata": {
        "id": "LAl5bGLAbNB8",
        "colab": {
          "base_uri": "https://localhost:8080/"
        },
        "outputId": "dae79a11-0aae-4b68-df3e-c3e85466d1f8"
      },
      "execution_count": 8,
      "outputs": [
        {
          "output_type": "stream",
          "name": "stdout",
          "text": [
            "[0, 1, 4, 9, 16]\n"
          ]
        }
      ]
    },
    {
      "cell_type": "markdown",
      "source": [
        "You can make this code simpler using a list comprehension:"
      ],
      "metadata": {
        "id": "tUjJeBrVbXk7"
      }
    },
    {
      "cell_type": "code",
      "source": [
        "# newList = [expression(element) for element in Oldlist if condition]\n",
        "nums = [0, 1, 2, 3, 4]\n",
        "squares = [x ** 2 for x in nums]\n",
        "print(squares)"
      ],
      "metadata": {
        "id": "6e0oNosibYWi",
        "colab": {
          "base_uri": "https://localhost:8080/"
        },
        "outputId": "4d34eea0-96c3-420c-d3a1-2b1ada61da64"
      },
      "execution_count": 9,
      "outputs": [
        {
          "output_type": "stream",
          "name": "stdout",
          "text": [
            "[0, 1, 4, 9, 16]\n"
          ]
        }
      ]
    },
    {
      "cell_type": "code",
      "source": [
        "# Make a list of even square numbers using nums\n",
        "squares = []\n",
        "for x in nums:\n",
        "  if(x**2 % 2 == 0):\n",
        "    squares.append(x**2)\n",
        "\n",
        "for y in squares:\n",
        "  print(y, end=\" \")\n"
      ],
      "metadata": {
        "id": "DikC1mW_cQ0N",
        "colab": {
          "base_uri": "https://localhost:8080/"
        },
        "outputId": "e2c5fa05-5e68-4f15-e3dc-fbe3d530499c"
      },
      "execution_count": 12,
      "outputs": [
        {
          "output_type": "stream",
          "name": "stdout",
          "text": [
            "0 4 16 "
          ]
        }
      ]
    },
    {
      "cell_type": "code",
      "source": [
        "# Make a list of even numbers between 1 to 10 using list comprehension\n",
        "squares = []\n",
        "for x in range(0,10):\n",
        "  if(x % 2 == 0):\n",
        "    print(x, end =\" \")\n"
      ],
      "metadata": {
        "colab": {
          "base_uri": "https://localhost:8080/"
        },
        "id": "gb6vVfJHbuUB",
        "outputId": "3570e6c7-574f-4104-8f91-4339fa10c2df"
      },
      "execution_count": 13,
      "outputs": [
        {
          "output_type": "stream",
          "name": "stdout",
          "text": [
            "0 2 4 6 8 "
          ]
        }
      ]
    },
    {
      "cell_type": "markdown",
      "source": [
        "## **Sets**\n",
        "\n",
        "* Set is an unordered collection of unique items.\n",
        "* Duplicates are not allowed in sets. If a duplicate item is assigned, it is only inserted once.\n",
        "* A set can be created using curly braces `{ }`.\n",
        "* Sets items are not changeable, but the set itself can change. (i.e items can be added or removed)(Mutable)\n",
        "* Items in the set cannot be replaced or changed.\n",
        "\n",
        "* They are unindexed and so items cannot be accessed using index."
      ],
      "metadata": {
        "id": "ABDjlLEPRLMB"
      }
    },
    {
      "cell_type": "code",
      "source": [
        "mySet = {10, 15, \"v\", 2, 13, \"Hello\", 10, 2, \"v\"}\n",
        "print(mySet)"
      ],
      "metadata": {
        "id": "dfKiwkN8RO99",
        "colab": {
          "base_uri": "https://localhost:8080/"
        },
        "outputId": "b494bdd7-f9f8-4ebe-f6bd-1baa871750e4"
      },
      "execution_count": 14,
      "outputs": [
        {
          "output_type": "stream",
          "name": "stdout",
          "text": [
            "{2, 'Hello', 10, 13, 'v', 15}\n"
          ]
        }
      ]
    },
    {
      "cell_type": "markdown",
      "source": [
        "### **Accessing Set Items**\n",
        "* You cannot access items in a set by referring to an index or key.\n",
        "But you can ask if a specified value is present in a set, by using the **in** keyword."
      ],
      "metadata": {
        "id": "Sn0NqP7oRUYj"
      }
    },
    {
      "cell_type": "code",
      "source": [
        "myLang = {\"C++\", \"Python\", \"Java\", \"Kotlin\"}\n",
        "if \"Javascript\" in myLang:\n",
        "    print(\"I know Javascript.\")\n",
        "else:\n",
        "    print(\"I do not know Javascript.\")"
      ],
      "metadata": {
        "id": "o_H9rqH7RaGm",
        "colab": {
          "base_uri": "https://localhost:8080/"
        },
        "outputId": "19e4934b-c824-4f0e-d11e-9b617c99de5e"
      },
      "execution_count": 20,
      "outputs": [
        {
          "output_type": "stream",
          "name": "stdout",
          "text": [
            "I do not know Javascript.\n"
          ]
        }
      ]
    },
    {
      "cell_type": "markdown",
      "source": [
        "### **Adding Items**\n",
        "\n",
        "* Items can be added to a set using `add()` method."
      ],
      "metadata": {
        "id": "z_jsl8NdRfIQ"
      }
    },
    {
      "cell_type": "code",
      "source": [
        "mySet = {10, 20, 30}\n",
        "mySet.add(40)\n",
        "print(mySet)\n",
        "\n",
        "mySet.add(30)\n",
        "print(mySet)"
      ],
      "metadata": {
        "id": "tOV7Qdu6Rf3D",
        "colab": {
          "base_uri": "https://localhost:8080/"
        },
        "outputId": "d72c2d05-2c4c-4910-9aa4-bcd93f1aabcc"
      },
      "execution_count": 21,
      "outputs": [
        {
          "output_type": "stream",
          "name": "stdout",
          "text": [
            "{40, 10, 20, 30}\n",
            "{40, 10, 20, 30}\n"
          ]
        }
      ]
    },
    {
      "cell_type": "markdown",
      "source": [
        "* To add multiple items at once, we can use `update()` method. It takes any iterable as an arguement."
      ],
      "metadata": {
        "id": "liDEEzdnS1hv"
      }
    },
    {
      "cell_type": "code",
      "source": [
        "mySet = {\"A\", \"B\", \"C\"}\n",
        "ls = [\"C\", \"D\", \"E\"]\n",
        "\n",
        "mySet.update(ls)\n",
        "print(mySet)"
      ],
      "metadata": {
        "id": "lDKmL_kjS2T7",
        "colab": {
          "base_uri": "https://localhost:8080/"
        },
        "outputId": "45ac4421-d1d7-4c19-d382-8e5f41a7bbc0"
      },
      "execution_count": 23,
      "outputs": [
        {
          "output_type": "stream",
          "name": "stdout",
          "text": [
            "{'B', 'D', 'A', 'C', 'E'}\n"
          ]
        }
      ]
    },
    {
      "cell_type": "markdown",
      "source": [
        "### **Removing Items**\n",
        "\n",
        "* To remove an item from set, we can use `discard()` or `remove()` method.\n",
        "* Both function similarly with the only difference being that if item does not exist in the set, `remove()` will generate an error whereas `discard()` will NOT generate an error."
      ],
      "metadata": {
        "id": "p6snqvqVTwHf"
      }
    },
    {
      "cell_type": "code",
      "source": [
        "mySet = {10, 20, 'A', 'B'}\n",
        "mySet.remove(10)\n",
        "mySet.discard(30)         # Element does not exist.\n",
        "print(mySet)"
      ],
      "metadata": {
        "id": "SmCyYN3HTyWC",
        "colab": {
          "base_uri": "https://localhost:8080/"
        },
        "outputId": "a8dbfcdb-df38-4266-ce33-b89f192408af"
      },
      "execution_count": 24,
      "outputs": [
        {
          "output_type": "stream",
          "name": "stdout",
          "text": [
            "{'A', 20, 'B'}\n"
          ]
        }
      ]
    },
    {
      "cell_type": "code",
      "source": [
        "mySet = {10, 20, 'A', 'B'}\n",
        "mySet.discard(10)\n",
        "mySet.discard(30)        # Element does not exist.\n",
        "print(mySet)"
      ],
      "metadata": {
        "id": "HMS1II6UT12Z",
        "colab": {
          "base_uri": "https://localhost:8080/"
        },
        "outputId": "796e6e2d-9fc2-4247-ae06-677726600588"
      },
      "execution_count": 25,
      "outputs": [
        {
          "output_type": "stream",
          "name": "stdout",
          "text": [
            "{'A', 20, 'B'}\n"
          ]
        }
      ]
    },
    {
      "cell_type": "markdown",
      "source": [
        "### **Set Operations**\n",
        "\n",
        "* The `union()` method is used to perform union of two sets.\n",
        "* The `intersection()` method is used to perform intersection of two sets."
      ],
      "metadata": {
        "id": "oEEhVGrNUL7H"
      }
    },
    {
      "cell_type": "code",
      "source": [
        "A = {10, 20, 30}\n",
        "B = {20, 40, 50, 60}\n",
        "\n",
        "AuB = A.union(B)          # A new set is returned.\n",
        "print(AuB)\n",
        "AiB = A.intersection(B)         # A new set is returned.\n",
        "print(AiB)"
      ],
      "metadata": {
        "colab": {
          "base_uri": "https://localhost:8080/"
        },
        "id": "asVJzE_dUUtq",
        "outputId": "b91aa722-17a6-453b-a614-8068272590ae"
      },
      "execution_count": 26,
      "outputs": [
        {
          "output_type": "stream",
          "name": "stdout",
          "text": [
            "{50, 20, 40, 10, 60, 30}\n",
            "{20}\n"
          ]
        }
      ]
    },
    {
      "cell_type": "markdown",
      "source": [
        "* Many other operations like difference and symmetric difference can also be performed using set methods. Check reference : https://www.w3schools.com/python/python_sets_methods.asp"
      ],
      "metadata": {
        "id": "Wll3GUnGUedo"
      }
    },
    {
      "cell_type": "markdown",
      "source": [
        "When programming, frequently we want to transform one type of data into another. As a simple example, consider the following code that computes square numbers:"
      ],
      "metadata": {
        "id": "kqAva3f_eopa"
      }
    },
    {
      "cell_type": "markdown",
      "source": [
        "## **Dictionaries**\n",
        "\n",
        "* Dictionaries are used to store `key : value` pairs in python. It is an implementation of hash tables.\n",
        "* Item values can be accessed using the `key` for the required item.\n",
        "* Dictionaries are mutable, i.e we can add or remove items after the dictionary has been created.\n",
        "* Dictionaries require a unique `key` for every item. No two items can have the same `key`.\n"
      ],
      "metadata": {
        "id": "H_FILFVqyku5"
      }
    },
    {
      "cell_type": "code",
      "source": [
        "myDict = {\n",
        "    \"Student ID\" : 202103017,         # keys and values can be of any data type\n",
        "    \"Name\" : \"Dhruv\",\n",
        "    \"College\" : \"DAIICT\",\n",
        "    \"Graduation Year\" : 2025,\n",
        "    \"Years of Study\" : [2021, 2022, 2023, 2024],\n",
        "}\n",
        "print(myDict)\n",
        "print(myDict[\"Name\"])"
      ],
      "metadata": {
        "id": "QWSA327Fy5Di",
        "colab": {
          "base_uri": "https://localhost:8080/"
        },
        "outputId": "a88f69de-53a8-47d4-92a1-0f241d34cd92"
      },
      "execution_count": 28,
      "outputs": [
        {
          "output_type": "stream",
          "name": "stdout",
          "text": [
            "{'Student ID': 202103017, 'Name': 'Dhruv', 'College': 'DAIICT', 'Graduation Year': 2025, 'Years of Study': [2021, 2022, 2023, 2024]}\n",
            "Dhruv\n"
          ]
        }
      ]
    },
    {
      "cell_type": "markdown",
      "source": [
        "### **Accessing Dictionary Items**\n",
        "\n",
        "* As shown above, dictionary `values` can be accessed by using their corresponding `keys` as index.\n",
        "* This can also be done using the `get()` method. This will prevent an error incase key does not exist."
      ],
      "metadata": {
        "id": "hRlbGLpQzS7M"
      }
    },
    {
      "cell_type": "code",
      "source": [
        "gradeDict = {'A' : 5, 'B': 4, 'C' : 3, 'D' : 2, 'E' : 1, 'F' : 0}\n",
        "\n",
        "print(gradeDict['A'])\n",
        "print(gradeDict.get('B'))\n",
        "print(gradeDict.get('X'))"
      ],
      "metadata": {
        "id": "_fnEr1MPzT6G",
        "colab": {
          "base_uri": "https://localhost:8080/"
        },
        "outputId": "0fd53744-fceb-467f-db89-694bf7d611e4"
      },
      "execution_count": 27,
      "outputs": [
        {
          "output_type": "stream",
          "name": "stdout",
          "text": [
            "5\n",
            "4\n",
            "None\n"
          ]
        }
      ]
    },
    {
      "cell_type": "markdown",
      "source": [
        "### **Adding and Updating Items**\n",
        "\n",
        "* Existing items can be updated easily by accessing them using their corresponding `key`."
      ],
      "metadata": {
        "id": "3G4-0_qXz9ay"
      }
    },
    {
      "cell_type": "code",
      "source": [
        "phone = {\n",
        "    'Company' : 'Samsung',\n",
        "    'Model' : 'S21',\n",
        "    'Android Version' : 11\n",
        "}\n",
        "\n",
        "phone['Android Version'] = 12\n",
        "print(phone)"
      ],
      "metadata": {
        "id": "cIfIKC1Fz-J9",
        "colab": {
          "base_uri": "https://localhost:8080/"
        },
        "outputId": "03478d45-c539-4bfa-87ed-32d862fce8e3"
      },
      "execution_count": 29,
      "outputs": [
        {
          "output_type": "stream",
          "name": "stdout",
          "text": [
            "{'Company': 'Samsung', 'Model': 'S21', 'Android Version': 12}\n"
          ]
        }
      ]
    },
    {
      "cell_type": "markdown",
      "source": [
        "* If we assign a `value` to a `key` which does not exist, a new `key : value` pair will be added to the dictionary."
      ],
      "metadata": {
        "id": "Ti_idnhE0Ijv"
      }
    },
    {
      "cell_type": "code",
      "source": [
        "phone = {\n",
        "    'Company' : 'Samsung',\n",
        "    'Model' : 'S21',\n",
        "    'Android Version' : 11\n",
        "}\n",
        "phone['OneUI'] = 4.1\n",
        "print(phone)"
      ],
      "metadata": {
        "id": "Y0jwj4k80K4B",
        "colab": {
          "base_uri": "https://localhost:8080/"
        },
        "outputId": "81d1fd64-5535-47f2-f303-3c786683bee9"
      },
      "execution_count": 30,
      "outputs": [
        {
          "output_type": "stream",
          "name": "stdout",
          "text": [
            "{'Company': 'Samsung', 'Model': 'S21', 'Android Version': 11, 'OneUI': 4.1}\n"
          ]
        }
      ]
    },
    {
      "cell_type": "markdown",
      "source": [
        "* To add new or update multiple items at once, we can use the `update()` method of dictionaries.\n",
        "* `update()` method takes a dictionary as input which will be merged with the calling dictionary."
      ],
      "metadata": {
        "id": "UdbD4kHz0OIJ"
      }
    },
    {
      "cell_type": "code",
      "source": [
        "phone = {\n",
        "    'Company' : 'Samsung',\n",
        "    'Model' : 'S21',\n",
        "    'Android Version' : 11\n",
        "}\n",
        "phone.update({'Model':'S22', 'Android Version':12, 'Color': 'Black'})\n",
        "print(phone)"
      ],
      "metadata": {
        "id": "3Tvdr8cd0hjO",
        "colab": {
          "base_uri": "https://localhost:8080/"
        },
        "outputId": "f9c8e20a-1a58-43d7-eff0-31685b3651ad"
      },
      "execution_count": 31,
      "outputs": [
        {
          "output_type": "stream",
          "name": "stdout",
          "text": [
            "{'Company': 'Samsung', 'Model': 'S22', 'Android Version': 12, 'Color': 'Black'}\n"
          ]
        }
      ]
    },
    {
      "cell_type": "markdown",
      "source": [
        "### **Remove Items**\n",
        "\n",
        "* To remove an item, we can use the `pop()` method. It takes item `key` as input parameter."
      ],
      "metadata": {
        "id": "T-Vo2GF-0r6_"
      }
    },
    {
      "cell_type": "code",
      "source": [
        "phone = {\n",
        "    'Company' : 'Samsung',\n",
        "    'Model' : 'S21',\n",
        "    'Android Version' : 12,\n",
        "    'Color' : 'Black'\n",
        "}\n",
        "phone.pop('Color')\n",
        "print(phone)"
      ],
      "metadata": {
        "id": "-fb6vokN0skm",
        "colab": {
          "base_uri": "https://localhost:8080/"
        },
        "outputId": "d1997411-b74a-408f-bfb2-fe804a4917fa"
      },
      "execution_count": 32,
      "outputs": [
        {
          "output_type": "stream",
          "name": "stdout",
          "text": [
            "{'Company': 'Samsung', 'Model': 'S21', 'Android Version': 12}\n"
          ]
        }
      ]
    },
    {
      "cell_type": "markdown",
      "source": [
        "* The `popitem()` method removes the last inserted item from the dictionary.\n",
        "\n",
        "* Note that dictionaries are unordered in versions before 3.7. In older versions, this method removes a random item."
      ],
      "metadata": {
        "id": "y-Z907Qw0zMG"
      }
    },
    {
      "cell_type": "code",
      "source": [
        "phone = {\n",
        "    'Company' : 'Samsung',\n",
        "    'Model' : 'S21',\n",
        "    'Android Version' : 12,\n",
        "}\n",
        "phone.popitem()\n",
        "print(phone)"
      ],
      "metadata": {
        "id": "cJ4cmoSf0218",
        "colab": {
          "base_uri": "https://localhost:8080/"
        },
        "outputId": "941e62da-cbed-497f-be52-f93f8fb41ebe"
      },
      "execution_count": 33,
      "outputs": [
        {
          "output_type": "stream",
          "name": "stdout",
          "text": [
            "{'Company': 'Samsung', 'Model': 'S21'}\n"
          ]
        }
      ]
    },
    {
      "cell_type": "markdown",
      "source": [
        "### **Items, Keys & Values**\n",
        "\n",
        "While using python dictionaries you will work with these three terms.\n",
        "1. ***items*** : Items refer to a `key:value` pair. It is stored in the form of a tuple.\n",
        "2. ***keys*** : Keys refer to the user made indices which are used to access items.\n",
        "3. ***values*** : Values refere to the *data* which can be accessed using its corresponding key."
      ],
      "metadata": {
        "id": "aWlx0MJb0_XF"
      }
    },
    {
      "cell_type": "markdown",
      "source": [
        "We can view all items, keys and values using the methods `items()`, `keys()`\n",
        "\n",
        "and `values()` respectively."
      ],
      "metadata": {
        "id": "3-8VrSO71CgL"
      }
    },
    {
      "cell_type": "code",
      "source": [
        "phone = {\n",
        "    'Company' : 'Samsung',\n",
        "    'Model' : 'S21',\n",
        "    'Android Version' : 12,\n",
        "}\n",
        "\n",
        "print(phone.items(), type(phone.items()))\n",
        "print(phone.keys(), type(phone.keys()))\n",
        "print(phone.values(), type(phone.values()))"
      ],
      "metadata": {
        "id": "m14nlTkd1E_z",
        "colab": {
          "base_uri": "https://localhost:8080/"
        },
        "outputId": "346f0eff-902f-4dff-9233-258171a0448b"
      },
      "execution_count": null,
      "outputs": [
        {
          "output_type": "stream",
          "name": "stdout",
          "text": [
            "dict_items([('Company', 'Samsung'), ('Model', 'S21'), ('Android Version', 12)]) <class 'dict_items'>\n",
            "dict_keys(['Company', 'Model', 'Android Version']) <class 'dict_keys'>\n",
            "dict_values(['Samsung', 'S21', 12]) <class 'dict_values'>\n"
          ]
        }
      ]
    },
    {
      "cell_type": "markdown",
      "source": [
        "> Python dictionaries also support many other methods. Check reference: https://www.w3schools.com/python/python_dictionaries_methods.asp"
      ],
      "metadata": {
        "id": "aJdv51gF2DIu"
      }
    },
    {
      "cell_type": "markdown",
      "metadata": {
        "id": "mkQdG8OH-S0V"
      },
      "source": [
        "## **Tuples**\n",
        "\n",
        "* Tuples are used to store multiple items in a single variable.\n",
        "* Tuples are created using `( )` and are immutable (unchangeable)\n",
        "* Similar to lists, tuples are 0-indexed."
      ]
    },
    {
      "cell_type": "code",
      "execution_count": 35,
      "metadata": {
        "colab": {
          "base_uri": "https://localhost:8080/"
        },
        "id": "kdLjutQfA_LB",
        "outputId": "7849c888-6937-47f2-c007-d28b5791b278"
      },
      "outputs": [
        {
          "output_type": "stream",
          "name": "stdout",
          "text": [
            "('Zero', 'One', 'Two', 'Three')\n"
          ]
        }
      ],
      "source": [
        "myTuple = (\"Zero\", \"One\", \"Two\", \"Three\")\n",
        "print(myTuple)\n"
      ]
    },
    {
      "cell_type": "code",
      "source": [
        "myTuple[0] = \"Five\""
      ],
      "metadata": {
        "id": "siJhmgldXKPc",
        "outputId": "2a62ad1c-27bc-4afa-8a92-52d9bba75c03",
        "colab": {
          "base_uri": "https://localhost:8080/",
          "height": 169
        }
      },
      "execution_count": null,
      "outputs": [
        {
          "output_type": "error",
          "ename": "TypeError",
          "evalue": "ignored",
          "traceback": [
            "\u001b[0;31m---------------------------------------------------------------------------\u001b[0m",
            "\u001b[0;31mTypeError\u001b[0m                                 Traceback (most recent call last)",
            "\u001b[0;32m<ipython-input-9-44c018fbf4e3>\u001b[0m in \u001b[0;36m<cell line: 1>\u001b[0;34m()\u001b[0m\n\u001b[0;32m----> 1\u001b[0;31m \u001b[0mmyTuple\u001b[0m\u001b[0;34m[\u001b[0m\u001b[0;36m0\u001b[0m\u001b[0;34m]\u001b[0m \u001b[0;34m=\u001b[0m \u001b[0;34m\"Five\"\u001b[0m\u001b[0;34m\u001b[0m\u001b[0;34m\u001b[0m\u001b[0m\n\u001b[0m",
            "\u001b[0;31mTypeError\u001b[0m: 'tuple' object does not support item assignment"
          ]
        }
      ]
    },
    {
      "cell_type": "code",
      "execution_count": 34,
      "metadata": {
        "colab": {
          "base_uri": "https://localhost:8080/"
        },
        "id": "m7d7heirB4Rj",
        "outputId": "04fb214a-7b35-4823-84f7-311df3dd19db"
      },
      "outputs": [
        {
          "output_type": "stream",
          "name": "stdout",
          "text": [
            "<class 'int'> <class 'str'> <class 'float'>\n"
          ]
        }
      ],
      "source": [
        "# A tuple can also have different data type values\n",
        "diffTup = (0, \"One\", 2.0)\n",
        "print(type(diffTup[0]), type(diffTup[1]), type(diffTup[2]))"
      ]
    },
    {
      "cell_type": "markdown",
      "metadata": {
        "id": "Mu1pbIY5CgG4"
      },
      "source": [
        "* As tuples are unchangeable, we cannot add or remove elements from a tuple.\n",
        "But there is a workaround for this. We can convert the tuple into a list, add/remove your item, and then convert it back into a tuple."
      ]
    },
    {
      "cell_type": "code",
      "source": [
        "thistuple=(\"apple\",\"banana\",\"cherry\")\n",
        "print(thistuple)\n",
        "y=list(thistuple)\n",
        "y.append(\"orange\")\n",
        "thistuple=tuple(y)\n",
        "print(thistuple)"
      ],
      "metadata": {
        "id": "8xLYoTkxVOko",
        "colab": {
          "base_uri": "https://localhost:8080/"
        },
        "outputId": "04cdef3d-0324-4ef9-90ae-2c0d21dc4902"
      },
      "execution_count": 38,
      "outputs": [
        {
          "output_type": "stream",
          "name": "stdout",
          "text": [
            "('apple', 'banana', 'cherry')\n",
            "('apple', 'banana', 'cherry', 'orange')\n"
          ]
        }
      ]
    },
    {
      "cell_type": "markdown",
      "metadata": {
        "id": "Aiy0jSt7CeDY"
      },
      "source": [
        "### **Unpacking tuples**\n",
        "\n",
        "* As we discussed tuples are used to store multiple items in a single variable. Now, unpacking a tuple means creating a separate variable for every item in a tuple."
      ]
    },
    {
      "cell_type": "code",
      "execution_count": 40,
      "metadata": {
        "colab": {
          "base_uri": "https://localhost:8080/"
        },
        "id": "TtSocFXaC9OP",
        "outputId": "57b1e4f2-a7d0-4a4b-9038-66751c9f995d"
      },
      "outputs": [
        {
          "output_type": "stream",
          "name": "stdout",
          "text": [
            "Zero\n",
            "One\n",
            "Two\n"
          ]
        }
      ],
      "source": [
        "myTuple = (\"Zero\", \"One\", \"Two\")\n",
        "z, o, t = myTuple\n",
        "print(z, o, t, sep='\\n')"
      ]
    },
    {
      "cell_type": "markdown",
      "metadata": {
        "id": "GBDl-eJYEBr1"
      },
      "source": [
        "* If number of variables created are not equal to the number of items in the tuple, we will face an error. To resolve this error, use `*` before a variable name to assign all remaining items to that variable as a list."
      ]
    },
    {
      "cell_type": "code",
      "execution_count": 39,
      "metadata": {
        "colab": {
          "base_uri": "https://localhost:8080/"
        },
        "id": "p7kv5X95D0KW",
        "outputId": "00d2430f-f5e9-4ac4-fd54-0b5063c8a9fc"
      },
      "outputs": [
        {
          "output_type": "stream",
          "name": "stdout",
          "text": [
            "['Zero', 'One'] Two\n"
          ]
        }
      ],
      "source": [
        "myTuple = (\"Zero\", \"One\", \"Two\")\n",
        "*z, o = myTuple      # Use *\n",
        "print(z,o)"
      ]
    },
    {
      "cell_type": "markdown",
      "source": [
        "A tuple is in many ways similar to a list; one of the most important differences is that tuples can be used as keys in dictionaries and as elements of sets, while lists cannot. Here is a trivial example:"
      ],
      "metadata": {
        "id": "_JIFFLMrXrH8"
      }
    },
    {
      "cell_type": "code",
      "source": [
        "d = {(x, x + 1): x for x in range(10)}  # Create a dictionary with tuple keys\n",
        "t = (5, 6)       # Create a tuple\n",
        "print(d)\n",
        "print(type(t))\n"
      ],
      "metadata": {
        "colab": {
          "base_uri": "https://localhost:8080/"
        },
        "id": "U2DE8SD9X2um",
        "outputId": "cf21da4b-f98f-484a-a75d-ced4cf9bfb6d"
      },
      "execution_count": 41,
      "outputs": [
        {
          "output_type": "stream",
          "name": "stdout",
          "text": [
            "{(0, 1): 0, (1, 2): 1, (2, 3): 2, (3, 4): 3, (4, 5): 4, (5, 6): 5, (6, 7): 6, (7, 8): 7, (8, 9): 8, (9, 10): 9}\n",
            "<class 'tuple'>\n"
          ]
        }
      ]
    },
    {
      "cell_type": "code",
      "source": [
        "print(d[t])\n",
        "print(d[(1, 2)])"
      ],
      "metadata": {
        "colab": {
          "base_uri": "https://localhost:8080/"
        },
        "id": "Gok6ou7yYITR",
        "outputId": "8cf1cf45-ed45-451d-c3c0-648b34ef5ea5"
      },
      "execution_count": 42,
      "outputs": [
        {
          "output_type": "stream",
          "name": "stdout",
          "text": [
            "5\n",
            "1\n"
          ]
        }
      ]
    },
    {
      "cell_type": "markdown",
      "metadata": {
        "id": "qtTrYTOfFSbZ"
      },
      "source": [
        "# **Functions in Python**\n",
        "\n",
        "* Functions in python can be declared using the `def` keyword.\n",
        "* `def` is followed by function name and arguements within `( )`."
      ]
    },
    {
      "cell_type": "code",
      "execution_count": 44,
      "metadata": {
        "id": "g2OlAuFPFmBI",
        "colab": {
          "base_uri": "https://localhost:8080/"
        },
        "outputId": "4cc6c637-6fa7-4219-c932-84353f6a03b0"
      },
      "outputs": [
        {
          "output_type": "stream",
          "name": "stdout",
          "text": [
            "Welcome Dhruv\n"
          ]
        }
      ],
      "source": [
        "def myFunction(username):\n",
        "    print(\"Welcome\", username)\n",
        "\n",
        "myFunction(\"Dhruv\")"
      ]
    },
    {
      "cell_type": "code",
      "execution_count": 43,
      "metadata": {
        "id": "7xo6HvxuGyfC",
        "colab": {
          "base_uri": "https://localhost:8080/"
        },
        "outputId": "93292fde-de24-4d7f-d6f2-1ab80b7b6110"
      },
      "outputs": [
        {
          "output_type": "stream",
          "name": "stdout",
          "text": [
            "Username: Dhruv\n",
            "Email ID: dhruv@mail.com\n"
          ]
        }
      ],
      "source": [
        "# Multiple Arguements\n",
        "def myFunc(username, email):\n",
        "    print(\"Username:\", username)\n",
        "    print(\"Email ID:\", email)\n",
        "\n",
        "myFunc(\"Dhruv\", \"dhruv@mail.com\")"
      ]
    },
    {
      "cell_type": "markdown",
      "metadata": {
        "id": "Mr-AFW4lGLzl"
      },
      "source": [
        "* For multiple parameters, arguements can also be sent in the form of `key = value` synatax."
      ]
    },
    {
      "cell_type": "code",
      "execution_count": 45,
      "metadata": {
        "id": "UCbiWPYuHKwM",
        "colab": {
          "base_uri": "https://localhost:8080/"
        },
        "outputId": "dbf08e3c-01bf-4626-d910-e65d7a5114ce"
      },
      "outputs": [
        {
          "output_type": "stream",
          "name": "stdout",
          "text": [
            "Username: Dhruv\n",
            "Email ID: dhruv@mail.com\n"
          ]
        }
      ],
      "source": [
        "def myFunc(username, email):\n",
        "    print(\"Username:\", username)\n",
        "    print(\"Email ID:\", email)\n",
        "\n",
        "myFunc(email=\"dhruv@mail.com\", username=\"Dhruv\")"
      ]
    },
    {
      "cell_type": "markdown",
      "source": [
        "# Classes in Python"
      ],
      "metadata": {
        "id": "CFJIy_otSScQ"
      }
    },
    {
      "cell_type": "code",
      "source": [
        "# The Syntax for defining the classes is pretty straightforward.\n",
        "\n",
        "class Greeter:\n",
        "    # Constructor\n",
        "    def __init__(self, name):\n",
        "        self.name = name  # Create an instance variable\n",
        "\n",
        "    # Instance method\n",
        "    def greet(self, loud=False):\n",
        "        if loud:\n",
        "          print('HELLO, {}'.format(self.name.upper()))\n",
        "        else:\n",
        "          print('Hello, {}!'.format(self.name))\n",
        "\n",
        "g = Greeter('Fred')  # Construct an instance of the Greeter class\n",
        "g.greet()            # Call an instance method; prints \"Hello, Fred\"\n",
        "g.greet(loud=True)   # Call an instance method; prints \"HELLO, FRED!\""
      ],
      "metadata": {
        "id": "E1ff14yPSZvD",
        "colab": {
          "base_uri": "https://localhost:8080/"
        },
        "outputId": "2f806c1c-d480-4f7e-ad6a-9287fb181ab0"
      },
      "execution_count": 46,
      "outputs": [
        {
          "output_type": "stream",
          "name": "stdout",
          "text": [
            "Hello, Fred!\n",
            "HELLO, FRED\n"
          ]
        }
      ]
    },
    {
      "cell_type": "markdown",
      "source": [
        "## Coding Problem - 3"
      ],
      "metadata": {
        "id": "f_Sc6GbwT9WY"
      }
    },
    {
      "cell_type": "code",
      "source": [
        "# Create a function that checks if a given string is a palindrome.\n",
        "# Your Code here.\n",
        "def ispalindrome(s):\n",
        "  n = len(s)\n",
        "  for x in range(len(s)):\n",
        "    if(s[x] != s[x-n]):\n",
        "      print(\"String is not Palindrome\")\n",
        "      break\n",
        "    else:\n",
        "      continue\n",
        "\n",
        "ispalindrome(\"abcde\")"
      ],
      "metadata": {
        "id": "12ZKlprzT7as"
      },
      "execution_count": 51,
      "outputs": []
    },
    {
      "cell_type": "code",
      "source": [
        "# Create a program that removes duplicate elements from a list.\n",
        "# Your Code here.\n",
        "def remove_duplicates(data):\n",
        "  return list(set(data))\n",
        "\n",
        "\n",
        "my_list = [1, 2, 2, 3, 4, 4, 5]\n",
        "unique_list = remove_duplicates(my_list)\n",
        "print(unique_list)\n"
      ],
      "metadata": {
        "id": "nazCXqINUGxi",
        "colab": {
          "base_uri": "https://localhost:8080/"
        },
        "outputId": "74f63e35-0ff0-43b5-de1f-1137c7d342a6"
      },
      "execution_count": 59,
      "outputs": [
        {
          "output_type": "stream",
          "name": "stdout",
          "text": [
            "[1, 2, 3, 4, 5]\n"
          ]
        }
      ]
    },
    {
      "cell_type": "code",
      "source": [
        "# Write a class representing a simple bank account with methods to deposit, withdraw, and check balance.\n",
        "# Your Code here.\n",
        "class account:\n",
        "\n",
        "\n",
        "  def __init__(self,balance):\n",
        "    self.balance = balance\n",
        "\n",
        "  def deposit(self, Deposit):\n",
        "    self.balance += Deposit\n",
        "\n",
        "  def withdraw(self, Withdraw):\n",
        "    self.balance -= Withdraw\n",
        "\n",
        "  def display(self):\n",
        "    print(\"Current Balance: \", self.balance)\n",
        "\n",
        "\n",
        "a = account(5000)\n",
        "a.deposit(1000)\n",
        "a.display()\n",
        "a.withdraw(3000)\n",
        "a.display()\n"
      ],
      "metadata": {
        "id": "WynpNM5bUS_Z",
        "colab": {
          "base_uri": "https://localhost:8080/"
        },
        "outputId": "737ae4cc-3aa6-4095-f2f2-ff077258e582"
      },
      "execution_count": 58,
      "outputs": [
        {
          "output_type": "stream",
          "name": "stdout",
          "text": [
            "Current Balance:  6000\n",
            "Current Balance:  3000\n"
          ]
        }
      ]
    },
    {
      "cell_type": "markdown",
      "source": [
        "# **Python pip**\n",
        "\n",
        "\n",
        "* Python supports a lot of third-party packages which can be easily installed using pip.\n",
        "* **pip** is a package installer for python.\n",
        "* Note that pip is not a python function. It is a command line tool which is used to manage packages in python."
      ],
      "metadata": {
        "id": "h0jlV69h2bu0"
      }
    },
    {
      "cell_type": "markdown",
      "source": [
        "## **Installing a package**\n",
        "\n",
        "* If you have python installed on your local machine, you can try using pip on your command prompt."
      ],
      "metadata": {
        "id": "BMz2JXtW2mxl"
      }
    },
    {
      "cell_type": "code",
      "source": [
        "pip install numpy"
      ],
      "metadata": {
        "colab": {
          "base_uri": "https://localhost:8080/"
        },
        "id": "f7x5ltLk2p2u",
        "outputId": "245c7f37-a7e3-4e78-abee-d96c4ec35e99"
      },
      "execution_count": null,
      "outputs": [
        {
          "output_type": "stream",
          "name": "stdout",
          "text": [
            "Looking in indexes: https://pypi.org/simple, https://us-python.pkg.dev/colab-wheels/public/simple/\n",
            "Requirement already satisfied: numpy in /usr/local/lib/python3.8/dist-packages (1.21.6)\n"
          ]
        }
      ]
    },
    {
      "cell_type": "markdown",
      "source": [
        "* You can find numerous useful python packages at https://pypi.org/"
      ],
      "metadata": {
        "id": "IJoKkPbO28OK"
      }
    },
    {
      "cell_type": "markdown",
      "source": [
        "## **Using a package**\n",
        "\n",
        "* To use a package in python, we need to first import it to our code using the `import` and `from` keyword.\n",
        "\n"
      ],
      "metadata": {
        "id": "KDsSepf63E1O"
      }
    },
    {
      "cell_type": "code",
      "source": [
        "from math import sqrt\n",
        "x=3\n",
        "y=4\n",
        "z=sqrt(x**2+y**2)\n",
        "print(z)"
      ],
      "metadata": {
        "colab": {
          "base_uri": "https://localhost:8080/"
        },
        "id": "h4jIJQ2y3IcO",
        "outputId": "74dfdb56-8ba0-4d51-bad7-9314b276e4a7"
      },
      "execution_count": 60,
      "outputs": [
        {
          "output_type": "stream",
          "name": "stdout",
          "text": [
            "5.0\n"
          ]
        }
      ]
    },
    {
      "cell_type": "markdown",
      "source": [
        "# Numpy"
      ],
      "metadata": {
        "id": "rzCLwoiqUxaC"
      }
    },
    {
      "cell_type": "markdown",
      "source": [
        "Numpy is the core library for scientific computing in Python. It provides a high-performance multidimensional array object, and tools for working with these arrays."
      ],
      "metadata": {
        "id": "Vb_omzkGU68c"
      }
    },
    {
      "cell_type": "markdown",
      "source": [
        "# **Extending Python Using NumPy**\n",
        "\n",
        "* Due to the way that a Python list is implemented, accessing items in a large list is computationally expensive.\n",
        "\n",
        "*   The main problem with the list is that, to allow a list to have non-uniform data types, each item in the list is stored in a memory location, with the list containing an \"array\" of pointers to each of these locations.   \n",
        "*  In NumPy, an array is of type `ndarray` (n-dimensional array), and all the elements must be of the same type.\n",
        "\n"
      ],
      "metadata": {
        "id": "P2Z-oQ9F3oDk"
      }
    },
    {
      "cell_type": "markdown",
      "source": [
        "# Creating NumPy Arrays"
      ],
      "metadata": {
        "id": "sBJjFOK_DJ1u"
      }
    },
    {
      "cell_type": "code",
      "source": [
        "import numpy as np\n",
        "arr=np.array([1,2,3,4,5])\n",
        "print(arr)\n",
        "a1=np.arange(10) #Created a range from 0 to 9\n",
        "print(a1)\n",
        "print(a1.shape)"
      ],
      "metadata": {
        "colab": {
          "base_uri": "https://localhost:8080/"
        },
        "id": "J7WQXKVRDjnm",
        "outputId": "18c084f9-7602-42b8-871d-02496547049b"
      },
      "execution_count": 1,
      "outputs": [
        {
          "output_type": "stream",
          "name": "stdout",
          "text": [
            "[1 2 3 4 5]\n",
            "[0 1 2 3 4 5 6 7 8 9]\n",
            "(10,)\n"
          ]
        }
      ]
    },
    {
      "cell_type": "markdown",
      "source": [
        "* To create an array of a specific size filled with 0's, we use the zeros() function."
      ],
      "metadata": {
        "id": "K6SLxaxQD_-8"
      }
    },
    {
      "cell_type": "code",
      "source": [
        "a2= np.zeros(5) # Creates an array with all 0's\n",
        "print(a2)\n",
        "print(a2.shape)"
      ],
      "metadata": {
        "id": "FYqsyOkkELrw",
        "colab": {
          "base_uri": "https://localhost:8080/"
        },
        "outputId": "4250a936-b842-42ab-f1aa-b4a26ca6fd93"
      },
      "execution_count": 2,
      "outputs": [
        {
          "output_type": "stream",
          "name": "stdout",
          "text": [
            "[0. 0. 0. 0. 0.]\n",
            "(5,)\n"
          ]
        }
      ]
    },
    {
      "cell_type": "markdown",
      "source": [
        "* We can also create two-dimensional arrays using the zeros() function"
      ],
      "metadata": {
        "id": "jLOxpHcmEvHd"
      }
    },
    {
      "cell_type": "code",
      "source": [
        "a3=np.zeros((2,3)) #Array with 2 rows and 3 columns; This array has all zeros.\n",
        "print(a3.shape)\n",
        "print(a3)"
      ],
      "metadata": {
        "colab": {
          "base_uri": "https://localhost:8080/"
        },
        "id": "AUPbYnQ4E374",
        "outputId": "69ed1f38-9270-4a42-f9d6-05323a9a8703"
      },
      "execution_count": 3,
      "outputs": [
        {
          "output_type": "stream",
          "name": "stdout",
          "text": [
            "(2, 3)\n",
            "[[0. 0. 0.]\n",
            " [0. 0. 0.]]\n"
          ]
        }
      ]
    },
    {
      "cell_type": "markdown",
      "source": [
        "* If we want an array filled with a specific number instead of 0, use the `full()` function"
      ],
      "metadata": {
        "id": "B8vIoVPPFhrJ"
      }
    },
    {
      "cell_type": "code",
      "source": [
        "a4= np.full((3,3),8)\n",
        "print(a4)"
      ],
      "metadata": {
        "colab": {
          "base_uri": "https://localhost:8080/"
        },
        "id": "fAJOoHnJFwUT",
        "outputId": "4b107c55-4302-4eca-9976-cec9d8b44b25"
      },
      "execution_count": 4,
      "outputs": [
        {
          "output_type": "stream",
          "name": "stdout",
          "text": [
            "[[8 8 8]\n",
            " [8 8 8]\n",
            " [8 8 8]]\n"
          ]
        }
      ]
    },
    {
      "cell_type": "markdown",
      "source": [
        "* The `eye()` function returns a 2-D array with ones on the diagonal and zeros elsewhere. For eg."
      ],
      "metadata": {
        "id": "bePy-K6mF-hK"
      }
    },
    {
      "cell_type": "code",
      "source": [
        "a5= np.eye(4) # 4x4 identity matrix\n",
        "print(a5)"
      ],
      "metadata": {
        "colab": {
          "base_uri": "https://localhost:8080/"
        },
        "id": "77xXEK-nGKun",
        "outputId": "ca09ec11-9a85-4542-8295-7bfc31bc0070"
      },
      "execution_count": 5,
      "outputs": [
        {
          "output_type": "stream",
          "name": "stdout",
          "text": [
            "[[1. 0. 0. 0.]\n",
            " [0. 1. 0. 0.]\n",
            " [0. 0. 1. 0.]\n",
            " [0. 0. 0. 1.]]\n"
          ]
        }
      ]
    },
    {
      "cell_type": "markdown",
      "source": [
        "* To create an array filled with random numbers, we can use the `random()` function from the `numpy.random` module."
      ],
      "metadata": {
        "id": "76zL4MwkGbvv"
      }
    },
    {
      "cell_type": "code",
      "source": [
        "a6= np.random.random((2,4)) # A 2x4 Array with random values.\n",
        "print(a6)"
      ],
      "metadata": {
        "colab": {
          "base_uri": "https://localhost:8080/"
        },
        "id": "AtF-SzBeGq--",
        "outputId": "08e09b71-910d-4616-91a1-b1e1e1110267"
      },
      "execution_count": 6,
      "outputs": [
        {
          "output_type": "stream",
          "name": "stdout",
          "text": [
            "[[0.83563765 0.77796861 0.09844245 0.13067355]\n",
            " [0.82484528 0.18225152 0.32454231 0.08147674]]\n"
          ]
        }
      ]
    },
    {
      "cell_type": "markdown",
      "source": [
        "\n",
        "# Array Indexing\n",
        "\n",
        "* Accessing elements in the array is similar to accessing elements in a Python List."
      ],
      "metadata": {
        "id": "T-LDxFmxItq3"
      }
    },
    {
      "cell_type": "code",
      "source": [
        "list1= [1,2,3,4,5]\n",
        "list2= [6,7,8,9,0]\n",
        "r1 = np.array([list1,list2])\n",
        "print(r1)\n",
        "print(r1.shape) # 2 rows and 5 columns\n",
        "print(r1[0,0])\n",
        "print(r1[0,1])"
      ],
      "metadata": {
        "colab": {
          "base_uri": "https://localhost:8080/"
        },
        "id": "ZwWS9xzDJF1K",
        "outputId": "76f1b368-8746-4847-e19f-50878b69df74"
      },
      "execution_count": 7,
      "outputs": [
        {
          "output_type": "stream",
          "name": "stdout",
          "text": [
            "[[1 2 3 4 5]\n",
            " [6 7 8 9 0]]\n",
            "(2, 5)\n",
            "1\n",
            "2\n"
          ]
        }
      ]
    },
    {
      "cell_type": "markdown",
      "source": [
        "## Boolean Indexing"
      ],
      "metadata": {
        "id": "X4JtPP8DKOlq"
      }
    },
    {
      "cell_type": "code",
      "source": [
        "r2=np.array(list1)\n",
        "print(r2)\n",
        "print(r2>2) # Prints a list containing boolean values.\n",
        "print(r2[r2>2]) # [3,4,5]\n",
        "\n",
        "#Write a code to list all the odd numbers from a list of numbers using boolean indexing.\n",
        "nums= np.arange(10)\n",
        "print(nums)\n",
        "odd_nums= nums[nums%2==1]\n",
        "print(odd_nums)\n"
      ],
      "metadata": {
        "id": "MUIMqtrbK1Qi",
        "colab": {
          "base_uri": "https://localhost:8080/"
        },
        "outputId": "2daf4f9d-9fcc-45ee-9fdb-ae26eeb1a150"
      },
      "execution_count": 8,
      "outputs": [
        {
          "output_type": "stream",
          "name": "stdout",
          "text": [
            "[1 2 3 4 5]\n",
            "[False False  True  True  True]\n",
            "[3 4 5]\n",
            "[0 1 2 3 4 5 6 7 8 9]\n",
            "[1 3 5 7 9]\n"
          ]
        }
      ]
    },
    {
      "cell_type": "markdown",
      "source": [
        "## Slicing Arrays\n",
        "\n",
        "* Very important feature of NumPy, very useful in ML.\n",
        "* Similar to Python List."
      ],
      "metadata": {
        "id": "xSlkMkTlMfi9"
      }
    },
    {
      "cell_type": "code",
      "source": [
        "a=np.array([[1,2,3,4,5],[6,7,8,9,10],[11,12,13,14,15]])\n",
        "print(a)"
      ],
      "metadata": {
        "colab": {
          "base_uri": "https://localhost:8080/"
        },
        "id": "Vfvv6yNCNVBi",
        "outputId": "d30dada4-1689-4721-a61b-e23eedefc229"
      },
      "execution_count": 9,
      "outputs": [
        {
          "output_type": "stream",
          "name": "stdout",
          "text": [
            "[[ 1  2  3  4  5]\n",
            " [ 6  7  8  9 10]\n",
            " [11 12 13 14 15]]\n"
          ]
        }
      ]
    },
    {
      "cell_type": "markdown",
      "source": [
        "* Slicing has the syntax: `start:stop`. So for a 2-D array it becomes:  `[start:stop, start:stop]`"
      ],
      "metadata": {
        "id": "xZc9of11NqrX"
      }
    },
    {
      "cell_type": "code",
      "source": [
        "# We will extract the last two rows and the first two columns using slicing.\n",
        "b1 = a[0:,:2] #row 1 to the last row, and the first 2 columns\n",
        "print(b1)\n",
        "\n"
      ],
      "metadata": {
        "colab": {
          "base_uri": "https://localhost:8080/"
        },
        "id": "mbc3X9o6OoAb",
        "outputId": "39ce466b-9152-43ae-f27b-13ff15734679"
      },
      "execution_count": 10,
      "outputs": [
        {
          "output_type": "stream",
          "name": "stdout",
          "text": [
            "[[ 1  2]\n",
            " [ 6  7]\n",
            " [11 12]]\n"
          ]
        }
      ]
    },
    {
      "cell_type": "code",
      "source": [
        "#With negative indexing\n",
        "b2= a[-3:,-5:-3]\n",
        "print(b2)"
      ],
      "metadata": {
        "id": "4SRKyVF7TceD",
        "colab": {
          "base_uri": "https://localhost:8080/"
        },
        "outputId": "21ef0e58-9943-45eb-9a15-05c2f4cc8518"
      },
      "execution_count": 11,
      "outputs": [
        {
          "output_type": "stream",
          "name": "stdout",
          "text": [
            "[[ 1  2]\n",
            " [ 6  7]\n",
            " [11 12]]\n"
          ]
        }
      ]
    },
    {
      "cell_type": "markdown",
      "source": [
        "Point to Note: Result of slicing is dependent on how you slice it. For eg.\n"
      ],
      "metadata": {
        "id": "X_to1MF_Tysu"
      }
    },
    {
      "cell_type": "code",
      "source": [
        "b3=a[2:,:] # row 2 onwards and all columns.\n",
        "print(b3)\n",
        "print(b3.shape) # Here the result is rank 2. # Rank is simply the number of dimensions(or axes) an array has"
      ],
      "metadata": {
        "colab": {
          "base_uri": "https://localhost:8080/"
        },
        "id": "SSMpKGboT-Qb",
        "outputId": "edd99bc8-8e8a-4b10-a9d1-9dde2f4778bc"
      },
      "execution_count": 12,
      "outputs": [
        {
          "output_type": "stream",
          "name": "stdout",
          "text": [
            "[[11 12 13 14 15]]\n",
            "(1, 5)\n"
          ]
        }
      ]
    },
    {
      "cell_type": "code",
      "source": [
        "b4=a[2,:]\n",
        "print(b4)\n",
        "print(b4.shape)"
      ],
      "metadata": {
        "colab": {
          "base_uri": "https://localhost:8080/"
        },
        "id": "mw_DaX9-U9Ke",
        "outputId": "18b7cd93-1715-41e0-e5ba-d9acb23ef408"
      },
      "execution_count": 13,
      "outputs": [
        {
          "output_type": "stream",
          "name": "stdout",
          "text": [
            "[11 12 13 14 15]\n",
            "(5,)\n"
          ]
        }
      ]
    },
    {
      "cell_type": "markdown",
      "source": [
        "## Reshaping the Arrays\n",
        "\n",
        "* You can reshape the arrays to other dimensions using the `reshape()` keyword."
      ],
      "metadata": {
        "id": "UzASH7zsVIaN"
      }
    },
    {
      "cell_type": "code",
      "source": [
        "b4 = b4.reshape(1,-1) # First arguement indicates the number of rows.\n",
        "                      # -1 indicates that we leave it to the reshape() function to create the correct number of columns.\n",
        "                      # You can also specify the number of columns in the second argument\n",
        "print(b4)\n",
        "print(b4.shape)"
      ],
      "metadata": {
        "colab": {
          "base_uri": "https://localhost:8080/"
        },
        "id": "sRAwh3P5VVwS",
        "outputId": "9770d64c-d4e6-4cf8-d7c3-2a2e281d9e98"
      },
      "execution_count": 14,
      "outputs": [
        {
          "output_type": "stream",
          "name": "stdout",
          "text": [
            "[[11 12 13 14 15]]\n",
            "(1, 5)\n"
          ]
        }
      ]
    },
    {
      "cell_type": "markdown",
      "source": [
        "## Broadcasting"
      ],
      "metadata": {
        "id": "XgRTJ4ZiTjEM"
      }
    },
    {
      "cell_type": "markdown",
      "source": [
        "Broadcasting is a powerful mechanism that allows numpy to work with arrays of different shapes when performing arithmetic operations. Frequently we have a smaller array and a larger array, and we want to use the smaller array multiple times to perform some operation on the larger array.\n",
        "\n",
        "For example"
      ],
      "metadata": {
        "id": "DtxFuG2ITvGO"
      }
    },
    {
      "cell_type": "code",
      "source": [
        "# Given a matrix X which is (nx1), we want to make a matrix such that\n",
        "''' [1, x1, (x1)^2, (x1)^3, ......, (xn)^n\n",
        "     1, x2, (x2)^2, (x2)^3, ......, (xn)^n\n",
        "     ...................\n",
        "     .\n",
        "     .\n",
        "     .\n",
        "     .\n",
        "     .\n",
        "     1, xn, (xn)^2, (xn)^3, ......., (xn)^n]\n",
        "'''\n",
        "#Give a Brute Force Approach using for l\n",
        "\n",
        "\n",
        "X = np.array([1,2,3,4,5]).reshape(5,1)\n",
        "print(X.shape)\n",
        "pow = np.arange(0,len(X))\n",
        "mat = X ** pow\n",
        "print(mat)"
      ],
      "metadata": {
        "colab": {
          "base_uri": "https://localhost:8080/"
        },
        "id": "vsJSTBvmTisE",
        "outputId": "ce34d8f3-6135-48d2-f914-a93b0d1d920f"
      },
      "execution_count": 15,
      "outputs": [
        {
          "output_type": "stream",
          "name": "stdout",
          "text": [
            "(5, 1)\n",
            "[[  1   1   1   1   1]\n",
            " [  1   2   4   8  16]\n",
            " [  1   3   9  27  81]\n",
            " [  1   4  16  64 256]\n",
            " [  1   5  25 125 625]]\n"
          ]
        }
      ]
    },
    {
      "cell_type": "markdown",
      "source": [
        "## Coding Problem-4\n"
      ],
      "metadata": {
        "id": "GhSlD4_2Uqm1"
      }
    },
    {
      "cell_type": "code",
      "source": [
        "## Write a program that creates a 3x3 matrix with values ranging from 1 to 9. Then, modify the matrix by doubling the values of the second row.\n",
        "\n",
        "# Your Code here.\n",
        "\n",
        "import numpy as np\n",
        "\n",
        "matrix = np.arange(1, 10).reshape(3, 3)\n",
        "print(matrix)\n",
        "\n",
        "matrix[1, :] *= 2\n",
        "print(matrix)\n"
      ],
      "metadata": {
        "id": "86bEejFgUt0P",
        "colab": {
          "base_uri": "https://localhost:8080/"
        },
        "outputId": "3b539245-3a2f-45ed-9494-3ceaba495914"
      },
      "execution_count": 18,
      "outputs": [
        {
          "output_type": "stream",
          "name": "stdout",
          "text": [
            "[[1 2 3]\n",
            " [4 5 6]\n",
            " [7 8 9]]\n",
            "[[ 1  2  3]\n",
            " [ 8 10 12]\n",
            " [ 7  8  9]]\n"
          ]
        }
      ]
    },
    {
      "cell_type": "markdown",
      "source": [
        "# **Let's Code: Hangman Game**\n",
        "\n",
        "> Hangman is a simple paper-pencil, word-guessing game where the player must guess the given word within a certain number of guesses.\n",
        "Let's code a simple hangman game in python!\n",
        "\n"
      ],
      "metadata": {
        "id": "pXr5obr4KcwE"
      }
    },
    {
      "cell_type": "code",
      "source": [
        "import random\n",
        "\n",
        "fig = [\"\\n ____\\n|     \\n|    O\\n|       \\n|     \\n|       \\n\",\n",
        "       \"\\n ____\\n|     \\n|    O\\n|    |  \\n|    |\\n|       \\n\",\n",
        "       \"\\n ____\\n|     \\n|    O\\n|   /|  \\n|    |\\n|       \\n\",\n",
        "       \"\\n ____\\n|     \\n|    O\\n|   /|\\\\n|    |\\n|       \\n\",\n",
        "       \"\\n ____\\n|     \\n|    O\\n|   /|\\\\n|    |\\n|   /   \\n\",\n",
        "       \"\\n ____\\n|     \\n|    O\\n|   /|\\\\n|    |\\n|   / \\\\n\",\n",
        "       \"\\n ____\\n|    |\\n|    O\\n|   /|\\\\n|    |\\n|   / \\\\n\"]\n",
        "\n",
        "# Your Code here. Please avoid using Chat-GPT :)\n",
        "# Brownie points for those who will implement the game using Object Oriented Programming Concepts.\n",
        "\n",
        "class Game:\n",
        "\n",
        "    def __init__(self, word_list):\n",
        "        self.word_list = word_list\n",
        "        self.fig = fig\n",
        "\n",
        "    def choose_word(self):\n",
        "        return random.choice(self.word_list)[0]\n",
        "\n",
        "    def get_hint(self, target):\n",
        "        \"\"\"Provides a relevant hint based on the chosen word's category in the word list.\"\"\"\n",
        "\n",
        "        for word, category in self.word_list:\n",
        "            if word == target:\n",
        "                return f\"Hint: The word is related to {category}.\"\n",
        "        return \"Hint: No category available.\"\n",
        "\n",
        "    def display(self, target, guesses):\n",
        "        return ' '.join([letter if letter in guesses else '_' for letter in target])\n",
        "\n",
        "    def play(self):\n",
        "        target = self.choose_word()\n",
        "        guesses = set()\n",
        "        wrong = 0\n",
        "\n",
        "        print(\"Welcome to Hangman!\")\n",
        "        hint = self.get_hint(target)\n",
        "        print(hint)\n",
        "\n",
        "        while wrong < 6:\n",
        "            print(self.fig[wrong])\n",
        "            print(\"Word:\", self.display(target, guesses))\n",
        "            print(\"Guessed letters:\", ' '.join(sorted(guesses)))\n",
        "            cg = input(\"Enter a character: \").lower()\n",
        "\n",
        "            if cg in guesses:\n",
        "                print(\"You already guessed that letter.\")\n",
        "            elif cg in target:\n",
        "                guesses.add(cg)\n",
        "                print(\"Correct Guess.\")\n",
        "            else:\n",
        "                guesses.add(cg)\n",
        "                wrong += 1\n",
        "                print(\"Incorrect Guess.\")\n",
        "\n",
        "            if all(letter in guesses for letter in target):\n",
        "                print(\"\\n Congratulations! You won!!\")\n",
        "                print(\"The word was:\", target)\n",
        "                return\n",
        "\n",
        "        print(self.fig[6])\n",
        "        print(\"You Lost. The word was:\", target)\n",
        "\n",
        "\n",
        "if __name__ == \"__main__\":\n",
        "    words = [(\"python\", \"Programming Language\"), (\"january\", \"month\"), (\"history\", \"Subject\")]\n",
        "    start = Game(words)\n",
        "    start.play()\n"
      ],
      "metadata": {
        "id": "soq8soYLKg4g",
        "colab": {
          "base_uri": "https://localhost:8080/"
        },
        "outputId": "57b8c055-8a22-4ecc-fc2d-0d76f0e4271d"
      },
      "execution_count": 41,
      "outputs": [
        {
          "output_type": "stream",
          "name": "stdout",
          "text": [
            "Welcome to Hangman!\n",
            "Hint: The word is related to Subject.\n",
            "\n",
            " ____\n",
            "|     \n",
            "|    O\n",
            "|       \n",
            "|     \n",
            "|       \n",
            "\n",
            "Word: _ _ _ _ _ _ _\n",
            "Guessed letters: \n",
            "Enter a character: h\n",
            "Correct Guess.\n",
            "\n",
            " ____\n",
            "|     \n",
            "|    O\n",
            "|       \n",
            "|     \n",
            "|       \n",
            "\n",
            "Word: h _ _ _ _ _ _\n",
            "Guessed letters: h\n",
            "Enter a character: i\n",
            "Correct Guess.\n",
            "\n",
            " ____\n",
            "|     \n",
            "|    O\n",
            "|       \n",
            "|     \n",
            "|       \n",
            "\n",
            "Word: h i _ _ _ _ _\n",
            "Guessed letters: h i\n",
            "Enter a character: s\n",
            "Correct Guess.\n",
            "\n",
            " ____\n",
            "|     \n",
            "|    O\n",
            "|       \n",
            "|     \n",
            "|       \n",
            "\n",
            "Word: h i s _ _ _ _\n",
            "Guessed letters: h i s\n",
            "Enter a character: t\n",
            "Correct Guess.\n",
            "\n",
            " ____\n",
            "|     \n",
            "|    O\n",
            "|       \n",
            "|     \n",
            "|       \n",
            "\n",
            "Word: h i s t _ _ _\n",
            "Guessed letters: h i s t\n",
            "Enter a character: o\n",
            "Correct Guess.\n",
            "\n",
            " ____\n",
            "|     \n",
            "|    O\n",
            "|       \n",
            "|     \n",
            "|       \n",
            "\n",
            "Word: h i s t o _ _\n",
            "Guessed letters: h i o s t\n",
            "Enter a character: r\n",
            "Correct Guess.\n",
            "\n",
            " ____\n",
            "|     \n",
            "|    O\n",
            "|       \n",
            "|     \n",
            "|       \n",
            "\n",
            "Word: h i s t o r _\n",
            "Guessed letters: h i o r s t\n",
            "Enter a character: y\n",
            "Correct Guess.\n",
            "\n",
            " Congratulations! You won!!\n",
            "The word was: history\n"
          ]
        }
      ]
    },
    {
      "cell_type": "markdown",
      "source": [
        "For more examples on python and numpy, you can also go through the following tutorial.\n",
        "\n",
        "https://cs231n.github.io/python-numpy-tutorial/\n"
      ],
      "metadata": {
        "id": "p2ZI_dZfdZ1Q"
      }
    }
  ]
}